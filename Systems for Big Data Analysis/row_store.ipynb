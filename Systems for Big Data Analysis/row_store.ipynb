{
 "cells": [
  {
   "cell_type": "code",
   "execution_count": 1,
   "metadata": {
    "id": "-LUzN-TavJbG"
   },
   "outputs": [],
   "source": [
    "import os\n",
    "from datetime import datetime\n",
    "import shutil\n",
    "from time import time\n",
    "import numpy as np\n",
    "from tqdm import tqdm\n",
    "from math import *\n",
    "import threading\n",
    "import queue\n",
    "import linecache"
   ]
  },
  {
   "cell_type": "code",
   "execution_count": 2,
   "metadata": {
    "id": "oyixj3V1vh3C"
   },
   "outputs": [],
   "source": [
    "class myThread (threading.Thread):\n",
    "    def __init__(self, threadID, name, table, first_page, last_page, fields_to_sum, q):\n",
    "        '''\n",
    "        To initialize a new thread that will run the aggragation sum, we need to set the parameters :\n",
    "        - threadID (int): a unique identifier \n",
    "        - name (str)\n",
    "        - table (class Table) : the table the thread will work on\n",
    "        - first_page, last_page (int) : the thread will work on the table's pages betwenn first_page and last_page\n",
    "        - fields_to_sum (list) : list of the table's fields we want to sum\n",
    "        - q (queue) : the queue in which we will store the results of the sum\n",
    "        '''\n",
    "        threading.Thread.__init__(self)\n",
    "        self.threadID = threadID\n",
    "        self.name = name\n",
    "        self.first_page = first_page\n",
    "        self.last_page = last_page\n",
    "        self.table = table\n",
    "        self.fields_to_sum = fields_to_sum\n",
    "        self.q = q\n",
    "    \n",
    "    def run(self):\n",
    "        '''\n",
    "        Function that will be launched when we will do 'thread.start()'\n",
    "        It will launch the function calcul_sum_thread, that will calculate the sum of the table's fields in the corresponding range of pages\n",
    "        '''\n",
    "        print(\"Starting \" + self.name + '\\n')\n",
    "        res = self.table.calcul_sum_thread(self.name, self.fields_to_sum, self.first_page, self.last_page, self.q)\n",
    "        return res"
   ]
  },
  {
   "cell_type": "code",
   "execution_count": 3,
   "metadata": {
    "id": "F6S6ZAJ7vmqM"
   },
   "outputs": [],
   "source": [
    "SCHEMAS = {'part': ['P_PARTKEY', 'P_NAME', 'P_MFGR',\n",
    "                  'P_BRAND', 'P_TYPE', 'P_SIZE', \n",
    "                  'P_CONTAINER', 'P_RETAILPRICE', 'P_COMMENT'],\n",
    "         'supplier': ['S_SUPPKEY', 'S_NAME', 'S_ADDRESS',\n",
    "                      'S_NATIONKEY', 'S_PHONE', 'S_ACCTBAL',\n",
    "                      'S_COMMENT'],\n",
    "         'partsupp': ['PS_PARTKEY', 'PS_SUPPKEY', 'PS_AVAILQTY',\n",
    "                      'PS_SUPPLYCOST', 'PS_COMMENT'],\n",
    "         'customer': ['C_CUSTKEY', 'C_NAME', 'C_ADDRESS',\n",
    "                      'C_NATIONKEY', 'C_PHONE', 'C_ACCTBAL',\n",
    "                      'C_MKTSEGMENT', 'C_COMMENT'],\n",
    "         'orders': ['O_ORDERKEY', 'O_CUSTKEY', 'O_ORDERSTATUS',\n",
    "                   'O_TOTALPRICE', 'O_ORDERDATE', 'O_ORDERPRIORITY',\n",
    "                   'O_CLERK', 'O_SHIPPRIORITY', 'O_COMMENT'],\n",
    "         'lineitem': ['L_ORDERKEY', 'L_PARTKEY', 'L_SUPPKEY',\n",
    "                      'L_LINENUMBER', 'L_QUANTITY', 'L_EXTENDERDPRICE',\n",
    "                      'L_DISCOUNT', 'L_TAX', 'L_RETRUNFLAG',\n",
    "                      'L_LINESTATUS', 'L_SHIPDATE', 'L_COMMITDATE',\n",
    "                      'L_RECEIPTDATE', 'L_SHIPINSTRUCT', 'L_SHIPMODE',\n",
    "                      'L_COMMENT'],\n",
    "         'nation': ['N_NATIONKEY', 'N_NAME', 'N_REGIONKEY', 'N_COMMENT'],\n",
    "         'region': ['R_REGIONKEY', 'R_NAME', 'R_COMMENT']}\n",
    "\n",
    "PAGE_LENGTH = 50000"
   ]
  },
  {
   "cell_type": "code",
   "execution_count": 4,
   "metadata": {
    "id": "vL8kcM9TvnvT"
   },
   "outputs": [],
   "source": [
    "# Comparison operators\n",
    "def is_equal(x, y):\n",
    "    return x == y\n",
    "\n",
    "def is_inferior(x, y):\n",
    "    return x < y\n",
    "\n",
    "def is_superior(x, y):\n",
    "    return x > y\n",
    "\n",
    "def is_inferior_equal(x, y):\n",
    "    return x <= y\n",
    "\n",
    "def is_superior_equal(x, y):\n",
    "    return x >= y\n",
    "\n",
    "dico_operator = {'=' : is_equal,\n",
    "                 '>': is_superior,\n",
    "                 '>=': is_superior_equal,\n",
    "                 '<': is_inferior,\n",
    "                 '<=': is_inferior_equal}"
   ]
  },
  {
   "cell_type": "code",
   "execution_count": 5,
   "metadata": {
    "id": "3CgGO0Tovpn8"
   },
   "outputs": [],
   "source": [
    "# Les hash functions retenues, modifiables\n",
    "\n",
    "def hash_function(x, number_bucket=300):\n",
    "    try:\n",
    "        x = int(x)\n",
    "        return x % number_bucket\n",
    "\n",
    "    except:\n",
    "        return str(x)[0]"
   ]
  },
  {
   "cell_type": "code",
   "execution_count": 6,
   "metadata": {
    "id": "qq9t1uZfvtyo"
   },
   "outputs": [],
   "source": [
    "ERROR_MODE_TABLE = 'The table is not in the correct mode'\n",
    "READ_MODE = ['r']\n",
    "WRITE_MODE = ['w', 'a', 'w+', 'r+']\n",
    "\n",
    "class Table:\n",
    "    \n",
    "    def __init__(self, name, path='', fields=None, new_file=False):\n",
    "        \n",
    "        self.name = name\n",
    "        self.path_file = os.path.join(path, name+'.txt')\n",
    "        self.path_index = os.path.join(path, name+'_index.txt')\n",
    "      \n",
    "        self.fields = fields if fields else SCHEMAS[name]\n",
    "        \n",
    "        # Write the schema if the file is empty or it is a new file\n",
    "        if new_file or not(os.path.isfile(self.path_file)) or (os.path.getsize(self.path_file) == 0):\n",
    "            self.file = open(self.path_file, 'w')\n",
    "            self.file.write('|'.join(self.fields) + '\\n')\n",
    "        \n",
    "        self.page_num = 1   # First page is for the schema\n",
    "        self.offset = 0\n",
    "        self.last_page_data = ''\n",
    "        self.last_page_len = 0\n",
    "    \n",
    "    #------------------------\n",
    "    #       UTILITIES\n",
    "    #------------------------\n",
    "\n",
    "    def open_table(self, mode):\n",
    "        ''' Open the table and its index in the specified mode\n",
    "\n",
    "        Inputs:\n",
    "          mode (str) : the mode to open the file ('w', 'r', 'a', 'w+')\n",
    "        '''\n",
    "\n",
    "        self.file = open(self.path_file, mode)\n",
    "        self.index = open(self.path_index, mode)\n",
    "        self.mode = mode\n",
    "        \n",
    "    def close_table(self):\n",
    "        ''' Close the table and its index and add remaning data to table\n",
    "        '''\n",
    "\n",
    "        # Before closing if the mode in write we append the data left in object\n",
    "        if self.mode in WRITE_MODE:\n",
    "            self.file.write(self.last_page_data)\n",
    "            self.last_page_data = ''\n",
    "        \n",
    "        # And close everything\n",
    "        self.file.close()\n",
    "        self.index.close()\n",
    "    \n",
    "    def write(self, data, data_id):\n",
    "        ''' Central fonction that write to table with the record/page paradigme\n",
    "\n",
    "        Inputs: \n",
    "          data (str) : data to add to the table, should be :\n",
    "                       'field|field|...|field@field|...|field@'\n",
    "          data_id (str) : the unique id of the data that will be put in the index\n",
    "                          if None, no index is added\n",
    "        ''' \n",
    "        # Verify that the table is in correct mode\n",
    "        assert self.mode in WRITE_MODE, ERROR_MODE_TABLE\n",
    "\n",
    "        len_data = len(data)        \n",
    "        # If there is more space push the data onto the page\n",
    "        if self.last_page_len + len_data < PAGE_LENGTH:\n",
    "            self.last_page_data += data\n",
    "            self.last_page_len += len_data\n",
    "\n",
    "        # Else append the data to the file\n",
    "        else:\n",
    "            if self.mode in ['w+', 'r+']:\n",
    "                try:\n",
    "                    self.file.seek(-1)    # Go to the end of the file\n",
    "                except ValueError:\n",
    "                    pass\n",
    "            self.file.write(self.last_page_data + '\\n')\n",
    "            self.last_page_data = data\n",
    "            self.last_page_len = len_data\n",
    "            self.page_num += 1\n",
    "            self.offset = 0\n",
    "        \n",
    "        if data_id:\n",
    "            # Write the index of the file\n",
    "            self.index.write(f'{data_id}|{self.page_num}|{self.offset}\\n')\n",
    "            self.offset += 1\n",
    "\n",
    "            \n",
    "    def get_by_id(self, record_id):\n",
    "        ''' Retrun a record based on its id using the index\n",
    "\n",
    "        Input:\n",
    "          record_id (str): the unique id of the record\n",
    "        \n",
    "        Output:\n",
    "          (Table) : the record\n",
    "        '''\n",
    "\n",
    "        # Open the table and create output\n",
    "        self.open_table('r')\n",
    "        output = Table('output', '', self.fields, new_file=True)\n",
    "        output.open_table('a')\n",
    "        \n",
    "        # Transorm the id into a string as it is the format of the read\n",
    "        record_id_str = str(record_id) + '|'\n",
    "        record_id_size = len(record_id_str)\n",
    "                                      \n",
    "        # Compare the first characters of each line of the index with the id\n",
    "        for line in self.index:\n",
    "            if line[:record_id_size] == record_id_str:\n",
    "                line = line.split('|')\n",
    "                page_id, offset = int(line[1]), int(line[2])\n",
    "\n",
    "        # Read file until the right page and get the record with the offset\n",
    "        for i, line in enumerate(self.file):\n",
    "            if i == page_id:\n",
    "                result = line.strip().split('@')[offset]\n",
    "                output.write(result + '@', result.split('|')[0])\n",
    "                break\n",
    "                \n",
    "        # Close the tables\n",
    "        output.close_table()\n",
    "        self.close_table()\n",
    "        \n",
    "        return output\n",
    "    \n",
    "    def print_table(self, number_pages=1):\n",
    "        ''' Print the table beautifully to '{name}_nice.txt'\n",
    "\n",
    "        Input:\n",
    "          number_pages (int): the number of the table pages that should be printed\n",
    "        '''\n",
    "        \n",
    "        self.open_table('r')\n",
    "        self.file.readline()\n",
    "        \n",
    "        list_max_size = [len(field)+4 for field in self.fields]\n",
    "        \n",
    "        for i, page in enumerate(self.file):\n",
    "            if i < number_pages:\n",
    "                results = [record.split('|') for record in page.split('@')[:-1]]\n",
    "                tmp_lst_max_size = [max([len(record[i]) for record in results])+4 for i in range(len(self.fields))]\n",
    "                list_max_size = [max(maxi, maxi_tmp) for (maxi, maxi_tmp) in zip(list_max_size, tmp_lst_max_size)]\n",
    "            else:\n",
    "                break\n",
    "                \n",
    "        self.close_table()\n",
    "        self.open_table('r')\n",
    "        \n",
    "        with open(f'{self.name}_nice.txt', 'w') as nice:\n",
    "            \n",
    "            str_schema = [f'{value:^{offset}}' for value, offset in zip(self.fields, list_max_size)]\n",
    "            nice.write(' ' + '│ '.join(str_schema))\n",
    "            nice.write('\\n─' + '┼─'.join(['─'*field_len for field_len in list_max_size]) + '\\n')\n",
    "            \n",
    "            for i, page in enumerate(self.file):\n",
    "                if i-1 < number_pages:\n",
    "                    if i-1 > 0:\n",
    "                        nice.write('\\n')\n",
    "                        \n",
    "                    line = [[f'{value:<{offset}}' for value, offset in zip(record.split('|'), list_max_size)]\n",
    "                                                                                for record in page.split('@')[:-1]]\n",
    "                    nice.write('\\n'.join([' ' + '│ '.join(record) for record in line]))\n",
    "                else:\n",
    "                    break\n",
    "                    \n",
    "        self.close_table()\n",
    "        \n",
    "    def fields2id(self, list_field_name):\n",
    "        '''Gives the position of field in the table schema\n",
    "\n",
    "        Input:\n",
    "            list_fields_name (lst [str]) : a list of fields name\n",
    "        Ouptut:\n",
    "            (lst [int]) : position of each fields\n",
    "        '''\n",
    "        list_field_id = []\n",
    "        for name in list_field_name:\n",
    "            i = 0\n",
    "            while self.fields[i] != name:\n",
    "                i += 1\n",
    "            list_field_id.append(i)\n",
    "            \n",
    "        return list_field_id\n",
    "    \n",
    "    #------------------------\n",
    "    #       SELECTION\n",
    "    #------------------------\n",
    "\n",
    "    def selection(self, field_name, operator, value, output_name='output', output_path=''):\n",
    "        '''Select records based on a condition on a field\n",
    "\n",
    "        Inputs:\n",
    "          field_name (str) : the fileld on which we will check the condition\n",
    "          operator (str) : the operator used for the condition (must be in dict_operator keys)\n",
    "          value (int/str) : the value to compare the field\n",
    "          output_name (str) : the name of the output file\n",
    "          output_path (str) : the path of the output file\n",
    "\n",
    "        Output:\n",
    "          (Table) : containing all records from the table that verifies the condition\n",
    "        '''\n",
    "        \n",
    "        # Save the time of the selection\n",
    "        t0 = time()\n",
    "        \n",
    "        # Set the comparaison\n",
    "        comparaison = dico_operator[operator]\n",
    "        \n",
    "        # The comparaison type : str or int\n",
    "        type_compare = type(value)\n",
    "\n",
    "        # Open the table and the output\n",
    "        self.open_table('r')\n",
    "        output = Table(output_name, output_path, self.fields, new_file=True)\n",
    "        output.open_table('a') \n",
    "            \n",
    "        # Turn the field name into field id\n",
    "        field_id = self.fields2id([field_name])[0]\n",
    "        \n",
    "        # Skip the first page as it is schema\n",
    "        self.file.readline()\n",
    "\n",
    "        for page in self.file:\n",
    "            for record in page.strip().split('@')[:-1]:\n",
    "                \n",
    "                fields = record.split('|')\n",
    "\n",
    "                # Compare the attribut and the value\n",
    "                if comparaison(type_compare(fields[field_id]), value):\n",
    "                    output.write(record + '@', record.split('|')[0])\n",
    "\n",
    "        t1 = time()\n",
    "        T = t1 - t0\n",
    "        print(f'The selection took {T:.4f}s')\n",
    "        \n",
    "        output.close_table()\n",
    "        self.close_table()\n",
    "        \n",
    "        return output\n",
    "\n",
    "    #------------------------\n",
    "    #       PROJECTION\n",
    "    #------------------------\n",
    "\n",
    "    def projection(self, fields_project, field_hash, output_name='output', output_path=''):\n",
    "        '''Project selected fields and use hash to speed duplicate suppression\n",
    "\n",
    "        Inputs:\n",
    "          field_project (lst [str]) : the fileld names to project\n",
    "          field_hash (int) : the position in field_project of the field on which to apply the hash\n",
    "          output_name (str) : the name of the output file\n",
    "          output_path (str) : the path of the output file\n",
    "\n",
    "        Output:\n",
    "          (Table) : containing all fields from the table without duplicate\n",
    "        '''\n",
    "        \n",
    "        # Creation of the repo data/buckets/buckets_date_hour where we will save the different buckets\n",
    "        # We will supress this repo at the end of the method\n",
    "        t0 = time()\n",
    "        now = datetime.now().strftime(\"%d_%m_%Y_%H_%M_%S\")\n",
    "\n",
    "        buckets_path = os.path.join('data', 'buckets', f'buckets_{now}')\n",
    "        os.mkdir(buckets_path)\n",
    "        \n",
    "        # Get the id and the name of fields selected in the right order\n",
    "        fields_id = self.fields2id(fields_project)\n",
    "\n",
    "        # Open the table and the output\n",
    "        self.open_table('r')\n",
    "        output = Table(output_name, output_path, fields_project, new_file=True)\n",
    "        output.open_table('a')\n",
    "\n",
    "        # dict of bucket table\n",
    "        buckets_dict = {}\n",
    "        \n",
    "        # Skip the first line bc it correspond to the schema\n",
    "        self.file.readline()\n",
    "        \n",
    "        for page in tqdm(self.file):\n",
    "            for record in page.strip().split('@')[:-1]:\n",
    "                fields = record.split('|')\n",
    "                attributs = [fields[i] for i in fields_id]\n",
    "                attributs_str = '|'.join(attributs)\n",
    "\n",
    "                hash_value = hash_function(attributs[field_hash])\n",
    "                bucket_path = os.path.join(buckets_path, f'bucket_{hash_value}.txt')\n",
    "\n",
    "                # If the bucket don't already exist we create it, store the record and add to the output\n",
    "                if not(hash_value in buckets_dict.keys()):\n",
    "                    bucket = Table(f'bucket_{hash_value}', buckets_path, fields=[''])\n",
    "                    buckets_dict[hash_value] = bucket\n",
    "\n",
    "                    bucket.open_table('w+')                   # Open the file in write/read mode\n",
    "\n",
    "                    bucket.write(attributs_str + '@', None)   # Write the new value in the bucket\n",
    "                    output.write(attributs_str + '@', None)   # Write on the output\n",
    "                    \n",
    "                # Else we compare only with the good bucket's records and add to \n",
    "                # the bucket and the output if not present\n",
    "                else:\n",
    "                    bucket = buckets_dict[hash_value]\n",
    "                    bucket.file.seek(0)   # Go back at the begining of the file\n",
    "                    \n",
    "                    new_record = True\n",
    "                    for page in bucket.file:\n",
    "                        if attributs_str in page.strip().split('@')[:-1]:\n",
    "                            new_record = False\n",
    "                            break\n",
    "                            \n",
    "                    if new_record:\n",
    "                        bucket.write(attributs_str + '@', None)   # Write the new value in the bucket\n",
    "                        output.write(attributs_str + '@', None)   # Write on the output\n",
    "        \n",
    "        # We close all bucket file before deleting them\n",
    "        for key in buckets_dict:\n",
    "            buckets_dict[key].close_table()\n",
    "        shutil.rmtree(buckets_path)\n",
    "\n",
    "        t1 = time()\n",
    "        T = t1 - t0\n",
    "        \n",
    "        print(f'The projection took {T:.4f}s')\n",
    "        \n",
    "        output.close_table()\n",
    "        self.close_table()\n",
    "\n",
    "        return output\n",
    "\n",
    "    #------------------------\n",
    "    #          SUM\n",
    "    #------------------------\n",
    "\n",
    "    def aggregate_sum(self, fields_to_sum, output_name='output', output_path=''):\n",
    "        '''Add the fields selected of each record from the table\n",
    "\n",
    "        Inputs:\n",
    "            fields_to_sum (lst [str]) : a list of field names to add (fields must be numerical)\n",
    "            output_name (str) : the name of the output file\n",
    "            output_path (str) : the path of the output file\n",
    "        \n",
    "        Output:\n",
    "          (Table) : results for each field\n",
    "        '''\n",
    "\n",
    "        sum_fields = [0]*len(fields_to_sum)\n",
    "        fields_id = self.fields2id(fields_to_sum)\n",
    "        \n",
    "        # Open the table and the output\n",
    "        self.open_table('r')\n",
    "        \n",
    "        for page in self.file:\n",
    "            for record in page.strip().split('@')[:-1]:\n",
    "                attributs = record.split('|')\n",
    "                attributs = [attributs[i] for i in fields_id]\n",
    "                \n",
    "                sum_fields = [s + float(attribut) for (s, attribut) in zip(sum_fields, attributs)]\n",
    "        \n",
    "        output = Table(output_name, output_path, fields_to_sum, new_file=True)\n",
    "        output.open_table('a')\n",
    "        \n",
    "        output.write('|'.join([str(s) for s in sum_fields]) + '@', None)\n",
    "        \n",
    "        output.close_table()\n",
    "        self.close_table()\n",
    "        \n",
    "        return output\n",
    "    \n",
    "    #------------------------\n",
    "    #      GROUP BY\n",
    "    #------------------------\n",
    "        \n",
    "    def group_by(self, field_group_by, output_name='results_group_by'):\n",
    "\n",
    "        '''Group records in tables based on the value of a field\n",
    "\n",
    "        Inputs:\n",
    "            field_group_by (str): the field used to group record\n",
    "            output_name (str): the output directory name\n",
    "        '''\n",
    "        \n",
    "        results_path = 'results_group_by'\n",
    "        try:\n",
    "            os.mkdir(results_path)\n",
    "        except FileExistsError:\n",
    "            pass\n",
    "        \n",
    "        results_dir = {}\n",
    "\n",
    "        field_selection = self.fields2id([field_group_by])[0]\n",
    "\n",
    "        self.open_table('r')\n",
    "        self.file.readline()    # skip the first line\n",
    "        \n",
    "        for page in tqdm(self.file):\n",
    "            for record in page.split('@')[:-1]:\n",
    "                \n",
    "                attributs = [attr for attr in record.split('|')]                \n",
    "                value = attributs[field_selection]\n",
    "                \n",
    "                # If the value of the field has not been yet recorded, then we create a new table which will correpond to this new value\n",
    "    \n",
    "                if not(value in results_dir.keys()):\n",
    "                    \n",
    "                    results_dir[value] = Table(f'result_{value}', results_path, self.fields)\n",
    "                    result = results_dir[value]\n",
    "                    result.open_table('a')\n",
    "                    result.write(record + '@', None)\n",
    "                    result.close_table()\n",
    "                    \n",
    "                # If the value of the field has already been recorded, then we add it to its corresponding table\n",
    "                \n",
    "                else:\n",
    "                    \n",
    "                    result = results_dir[value]\n",
    "                    result.open_table('a')\n",
    "                    result.write(record + '@', None)\n",
    "                    result.close_table()\n",
    "        \n",
    "        self.close_table()\n",
    "\n",
    "    #------------------------\n",
    "    #         JOIN\n",
    "    #------------------------\n",
    "\n",
    "    def nested_loop_join(self, inner_table, field_selection_outer, field_selection_inner, output_name = 'output', output_path = ''):\n",
    "        ''' Cartesian product of two tables based on a similar field. For this we don't use hashing.\n",
    "\n",
    "        Inputs:\n",
    "            inner_table (Table) : the second table\n",
    "            field_selection_outer : the selection field in this table\n",
    "            field_selection_inner : the selection field in the other table\n",
    "            output_name (str) : the name of the output file\n",
    "            output_path (str) : the path of the output file\n",
    "\n",
    "        Output:\n",
    "          (Table) : the join table base on the selection field\n",
    "        '''\n",
    "        \n",
    "        t0 = time()\n",
    "        \n",
    "        self.open_table('r')\n",
    "        inner_table.open_table('r')\n",
    "        \n",
    "        field_selection_outer = self.fields2id([field_selection_outer])[0]\n",
    "        field_selection_inner = inner_table.fields2id([field_selection_inner])[0]\n",
    "        \n",
    "        output = Table(output_name, output_path, self.fields + inner_table.fields , new_file=True)\n",
    "        output.open_table('a')\n",
    "        \n",
    "        \n",
    "        for page_outer in tqdm(self.file):\n",
    "            for record_outer in page_outer.split('@')[:-1]:\n",
    "                \n",
    "                fields_outer = record_outer.split('|')\n",
    "\n",
    "                inner_table.file.seek(0)\n",
    "                inner_table.file.readline() # skip the fields row\n",
    "\n",
    "                for page_inner in inner_table.file :\n",
    "                    for record_inner in page_inner.split('@')[:-1]:\n",
    "                        fields_inner = record_inner.split('|')\n",
    "\n",
    "                        if fields_outer[field_selection_outer] == fields_inner[field_selection_inner]:\n",
    "                            output.write(record_outer + '|' + record_inner + '@', fields_outer[0])\n",
    "        \n",
    "        t1 = time()\n",
    "        T = t1-t0\n",
    "        \n",
    "        print(f'The join (using the nested loop method) took {T:.4f}s')\n",
    "        \n",
    "        output.close_table()\n",
    "        inner_table.close_table()\n",
    "        self.close_table()\n",
    "        \n",
    "        return output\n",
    "    \n",
    "    \n",
    "    def hash_join(self, inner_table, field_selection_outer, field_selection_inner, output_name = 'output', output_path = ''):\n",
    "        ''' Cartesian product of two tables based on a similar field. For this we use hashing.\n",
    "\n",
    "        Inputs:\n",
    "            inner_table (Table) : the second table\n",
    "            field_selection_outer : the selection field in this table\n",
    "            field_selection_inner : the selection field in the other table\n",
    "            output_name (str) : the name of the output file\n",
    "            output_path (str) : the path of the output file\n",
    "\n",
    "        Output:\n",
    "          (Table) : the join table base on the selection field\n",
    "        '''\n",
    "\n",
    "        t0 = time()\n",
    "        \n",
    "        now = datetime.now().strftime(\"%d_%m_%Y_%H_%M_%S\")\n",
    "    \n",
    "        buckets_inner_path = os.path.join('data', 'buckets_inner_'+ f'{now}')\n",
    "        os.mkdir(buckets_inner_path)\n",
    "   \n",
    "        buckets_inner_dict = {}\n",
    "                 \n",
    "        # Partition of the inner table\n",
    "     \n",
    "        inner_table.open_table('r')\n",
    "        field_selection_inner = inner_table.fields2id([field_selection_inner])[0]\n",
    "     \n",
    "        for page in tqdm(inner_table.file):\n",
    "\n",
    "            for record in page.strip().split('@')[:-1]:\n",
    "                fields = record.split('|')\n",
    "                \n",
    "                hash_value = hash_function(fields[field_selection_inner])\n",
    "                bucket_inner_path = os.path.join(buckets_inner_path, f'bucket_{hash_value}.txt')\n",
    "                \n",
    "                # If the bucket does not exist we create a new bucket and add the tuple to this bucket\n",
    "                \n",
    "                if not(hash_value in buckets_inner_dict.keys()):\n",
    "                    buckets_inner_dict[hash_value] = Table(f'bucket_{hash_value}', buckets_inner_path, fields=[''])\n",
    "                    \n",
    "                    bucket = buckets_inner_dict[hash_value]\n",
    "                    bucket.open_table('w+')\n",
    "                    bucket.write(record + '@', None)\n",
    "                    \n",
    "                else:\n",
    "                    bucket = buckets_inner_dict[hash_value]\n",
    "                    bucket.write(record + '@', None)\n",
    "        \n",
    "        # Write the remaining data\n",
    "        for key in buckets_inner_dict.keys():\n",
    "            buckets_inner_dict[key].close_table()\n",
    "            \n",
    "        output = Table(output_name, output_path, self.fields + inner_table.fields, new_file=True)\n",
    "        output.open_table('a')\n",
    "        \n",
    "        # To read and write\n",
    "        for key in buckets_inner_dict.keys():\n",
    "            buckets_inner_dict[key].open_table('r+')   # w+ delets the file\n",
    "        \n",
    "        self.open_table('r')\n",
    "        self.file.readline()  # skip the first line\n",
    "        \n",
    "        field_selection_outer = self.fields2id([field_selection_outer])[0]\n",
    "        \n",
    "        for page_outer in tqdm(self.file):\n",
    "            for record_outer in page_outer.split('@')[:-1]:\n",
    "                fields_outer = record_outer.split('|')\n",
    "\n",
    "                hash_value = hash_function(fields_outer[field_selection_outer])\n",
    "                \n",
    "                # If the hash value does not exist we don't even need to check\n",
    "                try:\n",
    "                    bucket_inner = buckets_inner_dict[hash_value]\n",
    "                except KeyError:\n",
    "                    break\n",
    "                    \n",
    "                # Select the correct bucket\n",
    "                bucket_inner.file.seek(0)   # Go to the start of the bucket\n",
    "\n",
    "                # Check in the bucket if a record correspond if so write it in output\n",
    "                for page_inner in bucket_inner.file:\n",
    "                    for record_inner in page_inner.split('@')[:-1]:\n",
    "                        fields_inner = record_inner.split('|')\n",
    "\n",
    "                        if fields_outer[field_selection_outer] == fields_inner[field_selection_inner]:\n",
    "                            output.write(record_outer + '|' + record_inner + '@', fields_outer[0])\n",
    "            \n",
    "        t1 = time()\n",
    "        T = t1-t0\n",
    "\n",
    "        shutil.rmtree(buckets_inner_path)   #to supress the created bucket that takes places on the disk\n",
    "    \n",
    "        print(f'The join (using the hash method) took {T:.4f}s')\n",
    "        \n",
    "        self.close_table()\n",
    "        inner_table.close_table()\n",
    "        output.close_table()\n",
    "        \n",
    "        return output\n",
    "\n",
    "    #------------------------\n",
    "    #      MULTI-THREAD\n",
    "    #------------------------\n",
    "\n",
    "    def calcul_sum_thread(self, threadName, fields_to_sum, first_page, last_page, q):\n",
    "        '''\n",
    "        Make a certain thread calculating the intermediate sum between two specific pages\n",
    "\n",
    "        Parameters\n",
    "        -------------------------\n",
    "        threadName (str) : the name of the thread that will executes the function\n",
    "        fields_to_sum (list) : the list of the table's fields we want to sum\n",
    "        first_page, last_page (int): the first and the last pages the thread will work on\n",
    "        q (queue) : the queue used to store the results of the sum\n",
    "        '''\n",
    "        self.open_table('r')\n",
    "        sum_fields = [0]*len(fields_to_sum)\n",
    "        fields_id = self.fields2id(fields_to_sum)\n",
    "        \n",
    "        # For each page between first_page and last_page, we calculate the sum of fields_to_sum\n",
    "        for index_page in range(first_page, last_page):\n",
    "            page = linecache.getline(self.path_file, index_page+1)\n",
    "            for record in page.strip().split('@')[:-1]:\n",
    "                attributs = record.split('|')\n",
    "                attributs = [attributs[i] for i in fields_id]\n",
    "\n",
    "                sum_fields = [s + float(attribut) for (s, attribut) in zip(sum_fields, attributs)]\n",
    "        q.put(np.array(sum_fields))\n",
    "\n",
    "    def aggregate_sum_mthread(self, fields_to_sum, n_thread, output_name='output', output_path=''):\n",
    "        '''\n",
    "        Separate the task between the n_thread threads and aggregate the intermediate results\n",
    "        '''\n",
    "        t0 = time()\n",
    "        q = queue.Queue()\n",
    "        self.open_table('r')\n",
    "        n_line = sum(1 for line in self.file)\n",
    "        step = ceil((n_line) / n_thread)\n",
    "\n",
    "        # We divide the number of pages equelly between the threads\n",
    "        for i in range(n_thread):\n",
    "            thread = myThread(i, f\"Thread-{i+1}\", self, i*step, min(n_line+1, (i+1)*step), fields_to_sum, q)\n",
    "            thread.start()\n",
    "            \n",
    "        # The intermediate sums are stored in the queue q, we sum these results to get the final sum\n",
    "        sum_fields = np.array([0.]*len(fields_to_sum))\n",
    "        for i in range(n_thread):\n",
    "            sum_fields += q.get() \n",
    "        print(sum_fields)\n",
    "        \n",
    "        # We store the final sum in the file output_path/output_name\n",
    "        output = Table(output_name, output_path, fields_to_sum, new_file=True)\n",
    "        output.open_table('a')\n",
    "        output.write('|'.join([str(s) for s in sum_fields]) + '@', None)\n",
    "        output.close_table()\n",
    "        t1 = time()\n",
    "        T = t1-t0\n",
    "        \n",
    "        print(f'The sum took {T:.4f}s')\n",
    "\n",
    "    #-------------------\n",
    "    #     Mesures\n",
    "    #-------------------\n",
    "    \n",
    "    def nested_loop_join_timed(self, inner_table, field_selection_outer, field_selection_inner, time_limit=10, output_name = 'output', output_path = ''):\n",
    "        ''' Cartesian product of two tables based on a similar field. For this we don't use hashing.\n",
    "\n",
    "        Inputs:\n",
    "            inner_table (Table) : the second table\n",
    "            field_selection_outer : the selection field in this table\n",
    "            field_selection_inner : the selection field in the other table\n",
    "            output_name (str) : the name of the output file\n",
    "            output_path (str) : the path of the output file\n",
    "\n",
    "        Output:\n",
    "          (Table) : the join table base on the selection field\n",
    "        '''\n",
    "        \n",
    "        t0 = time()\n",
    "        \n",
    "        self.open_table('r')\n",
    "        inner_table.open_table('r')\n",
    "        \n",
    "        field_selection_outer = self.fields2id([field_selection_outer])[0]\n",
    "        field_selection_inner = inner_table.fields2id([field_selection_inner])[0]\n",
    "        \n",
    "        output = Table(output_name, output_path, self.fields + inner_table.fields , new_file=True)\n",
    "        output.open_table('a')\n",
    "        \n",
    "        \n",
    "        for i, page_outer in tqdm(enumerate(self.file)):\n",
    "            for record_outer in page_outer.split('@')[:-1]:\n",
    "                \n",
    "                fields_outer = record_outer.split('|')\n",
    "\n",
    "                inner_table.file.seek(0)\n",
    "                inner_table.file.readline() # skip the fields row\n",
    "\n",
    "                for page_inner in inner_table.file :\n",
    "                    for record_inner in page_inner.split('@')[:-1]:\n",
    "                        fields_inner = record_inner.split('|')\n",
    "\n",
    "                        if fields_outer[field_selection_outer] == fields_inner[field_selection_inner]:\n",
    "                            output.write(record_outer + '|' + record_inner + '@', fields_outer[0])\n",
    "        \n",
    "            t1 = time()\n",
    "            T = t1-t0\n",
    "            if T > time_limit:\n",
    "                break\n",
    "        \n",
    "        print(f'The join (using the nested loop method) took {T:.4f}s')\n",
    "        \n",
    "        output.close_table()\n",
    "        inner_table.close_table()\n",
    "        self.close_table()\n",
    "        \n",
    "        return i, T\n",
    "    \n",
    "      \n",
    "    def hash_join_timed(self, inner_table, field_selection_outer, field_selection_inner, time_limit, output_name = 'output', output_path = ''):\n",
    "        ''' Cartesian product of two tables based on a similar field. For this we use hashing.\n",
    "\n",
    "        Inputs:\n",
    "            inner_table (Table) : the second table\n",
    "            field_selection_outer : the selection field in this table\n",
    "            field_selection_inner : the selection field in the other table\n",
    "            output_name (str) : the name of the output file\n",
    "            output_path (str) : the path of the output file\n",
    "\n",
    "        Output:\n",
    "          (Table) : the join table base on the selection field\n",
    "        '''\n",
    "\n",
    "        t0 = time()\n",
    "        \n",
    "        now = datetime.now().strftime(\"%d_%m_%Y_%H_%M_%S\")\n",
    "    \n",
    "        buckets_inner_path = os.path.join('data', 'buckets_inner_'+ f'{now}')\n",
    "        os.mkdir(buckets_inner_path)\n",
    "   \n",
    "        buckets_inner_dict = {}\n",
    "                 \n",
    "        # Partition of the inner table\n",
    "     \n",
    "        inner_table.open_table('r')\n",
    "        field_selection_inner = inner_table.fields2id([field_selection_inner])[0]\n",
    "     \n",
    "        for page in tqdm(inner_table.file):\n",
    "\n",
    "            for record in page.strip().split('@')[:-1]:\n",
    "                fields = record.split('|')\n",
    "                \n",
    "                hash_value = hash_function(fields[field_selection_inner])\n",
    "                bucket_inner_path = os.path.join(buckets_inner_path, f'bucket_{hash_value}.txt')\n",
    "                \n",
    "                # If the bucket does not exist we create a new bucket and add the tuple to this bucket\n",
    "                \n",
    "                if not(hash_value in buckets_inner_dict.keys()):\n",
    "                    buckets_inner_dict[hash_value] = Table(f'bucket_{hash_value}', buckets_inner_path, fields=[''])\n",
    "                    \n",
    "                    bucket = buckets_inner_dict[hash_value]\n",
    "                    bucket.open_table('w+')\n",
    "                    bucket.write(record + '@', None)\n",
    "                    \n",
    "                else:\n",
    "                    bucket = buckets_inner_dict[hash_value]\n",
    "                    bucket.write(record + '@', None)\n",
    "        \n",
    "        # Write the remaining data\n",
    "        for key in buckets_inner_dict.keys():\n",
    "            buckets_inner_dict[key].close_table()\n",
    "        \n",
    "        t_hash = time()\n",
    "        \n",
    "        output = Table(output_name, output_path, self.fields + inner_table.fields, new_file=True)\n",
    "        output.open_table('a')\n",
    "        \n",
    "        # To read and write\n",
    "        for key in buckets_inner_dict.keys():\n",
    "            buckets_inner_dict[key].open_table('r+')   # w+ delets the file\n",
    "        \n",
    "        self.open_table('r')\n",
    "        self.file.readline()  # skip the first line\n",
    "        \n",
    "        field_selection_outer = self.fields2id([field_selection_outer])[0]\n",
    "        \n",
    "        for i, page_outer in tqdm(enumerate(self.file)):\n",
    "            for record_outer in page_outer.split('@')[:-1]:\n",
    "                fields_outer = record_outer.split('|')\n",
    "\n",
    "                hash_value = hash_function(fields_outer[field_selection_outer])\n",
    "                \n",
    "                # If the hash value does not exist we don't even need to check\n",
    "                try:\n",
    "                    bucket_inner = buckets_inner_dict[hash_value]\n",
    "                except KeyError:\n",
    "                    break\n",
    "                    \n",
    "                # Select the correct bucket\n",
    "                bucket_inner.file.seek(0)   # Go to the start of the bucket\n",
    "\n",
    "                # Check in the bucket if a record correspond if so write it in output\n",
    "                for page_inner in bucket_inner.file:\n",
    "                    for record_inner in page_inner.split('@')[:-1]:\n",
    "                        fields_inner = record_inner.split('|')\n",
    "\n",
    "                        if fields_outer[field_selection_outer] == fields_inner[field_selection_inner]:\n",
    "                            output.write(record_outer + '|' + record_inner + '@', fields_outer[0])\n",
    "            \n",
    "                t1 = time()\n",
    "                T = t1-t0\n",
    "                \n",
    "                if T > time_limit:\n",
    "                    break\n",
    "            \n",
    "            if T > time_limit:\n",
    "                break\n",
    "\n",
    "        shutil.rmtree(buckets_inner_path)   #to supress the created bucket that takes places on the disk\n",
    "    \n",
    "        print(f'The join (using the hash method) took {T:.4f}s')\n",
    "        \n",
    "        self.close_table()\n",
    "        inner_table.close_table()\n",
    "        output.close_table()\n",
    "        \n",
    "        return i, t1 - t0, t_hash - t0\n",
    "    \n",
    "    def projection_timed(self, fields_project, field_hash, time_limit, output_name='output', output_path=''):\n",
    "        '''Project selected fields and use hash to speed duplicate suppression\n",
    "\n",
    "        Inputs:\n",
    "          field_project (lst [str]) : the fileld names to project\n",
    "          field_hash (int) : the position in field_project of the field on which to apply the hash\n",
    "          output_name (str) : the name of the output file\n",
    "          output_path (str) : the path of the output file\n",
    "\n",
    "        Output:\n",
    "          (Table) : containing all fields from the table without duplicate\n",
    "        '''\n",
    "        \n",
    "        # Creation of the repo data/buckets/buckets_date_hour where we will save the different buckets\n",
    "        # We will supress this repo at the end of the method\n",
    "        t0 = time()\n",
    "        now = datetime.now().strftime(\"%d_%m_%Y_%H_%M_%S\")\n",
    "\n",
    "        buckets_path = os.path.join('data', 'buckets', f'buckets_{now}')\n",
    "        os.mkdir(buckets_path)\n",
    "        \n",
    "        # Get the id and the name of fields selected in the right order\n",
    "        fields_id = self.fields2id(fields_project)\n",
    "\n",
    "        # Open the table and the output\n",
    "        self.open_table('r')\n",
    "        output = Table(output_name, output_path, fields_project, new_file=True)\n",
    "        output.open_table('a')\n",
    "\n",
    "        # dict of bucket table\n",
    "        buckets_dict = {}\n",
    "        \n",
    "        # Skip the first line bc it correspond to the schema\n",
    "        self.file.readline()\n",
    "        \n",
    "        for i, page in tqdm(enumerate(self.file)):\n",
    "            for record in page.strip().split('@')[:-1]:\n",
    "                fields = record.split('|')\n",
    "                attributs = [fields[i] for i in fields_id]\n",
    "                attributs_str = '|'.join(attributs)\n",
    "\n",
    "                hash_value = hash_function(attributs[field_hash])\n",
    "                bucket_path = os.path.join(buckets_path, f'bucket_{hash_value}.txt')\n",
    "\n",
    "                # If the bucket don't already exist we create it, store the record and add to the output\n",
    "                if not(hash_value in buckets_dict.keys()):\n",
    "                    bucket = Table(f'bucket_{hash_value}', buckets_path, fields=[''])\n",
    "                    buckets_dict[hash_value] = bucket\n",
    "\n",
    "                    bucket.open_table('w+')                   # Open the file in write/read mode\n",
    "\n",
    "                    bucket.write(attributs_str + '@', None)   # Write the new value in the bucket\n",
    "                    output.write(attributs_str + '@', None)   # Write on the output\n",
    "                    \n",
    "                # Else we compare only with the good bucket's records and add to \n",
    "                # the bucket and the output if not present\n",
    "                else:\n",
    "                    bucket = buckets_dict[hash_value]\n",
    "                    bucket.file.seek(0)   # Go back at the begining of the file\n",
    "                    \n",
    "                    new_record = True\n",
    "                    for page in bucket.file:\n",
    "                        if attributs_str in page.strip().split('@')[:-1]:\n",
    "                            new_record = False\n",
    "                            break\n",
    "                            \n",
    "                    if new_record:\n",
    "                        bucket.write(attributs_str + '@', None)   # Write the new value in the bucket\n",
    "                        output.write(attributs_str + '@', None)   # Write on the output\n",
    "            \n",
    "                t1 = time()\n",
    "                if t1 - t0 > time_limit:\n",
    "                    break\n",
    "              \n",
    "            if t1 - t0 > time_limit:\n",
    "                    break\n",
    "            \n",
    "        # We close all bucket file before deleting them\n",
    "        for key in buckets_dict:\n",
    "            buckets_dict[key].close_table()\n",
    "        shutil.rmtree(buckets_path)\n",
    "\n",
    "        print(f'The projection took {t1 - t0:.4f}s')\n",
    "        \n",
    "        output.close_table()\n",
    "        self.close_table()\n",
    "\n",
    "        return i\n",
    "\n",
    "    # Cette fonction est utilisée par Carlos pour la comparaison des row et colonne \n",
    "    def projection_car(self, fields_project, field_hash, duplicates_elimination=True, number_bucket=10, output_name='output', output_path=''):\n",
    "        '''\n",
    "        save the results of the projection on fields 'fields_project' on the file output_path/output_name.txt        \n",
    "        '''\n",
    "        \n",
    "        # Creation of the repo data/buckets/buckets_date_hour where we will save the different buckets\n",
    "        # We will supress this repo at the end of the method\n",
    "        t0 = time()\n",
    "        now = datetime.now().strftime(\"%d_%m_%Y_%H_%M_%S\")\n",
    "        cpteur = 0\n",
    "        cpteur_duplicates = 0\n",
    "\n",
    "        buckets_path = os.path.join('data', 'buckets', f'buckets_{now}')\n",
    "        os.mkdir(buckets_path)\n",
    "        \n",
    "        # Get the id and the name of fields selected in the right order\n",
    "        fields_id = self.fields2id(fields_project)\n",
    "\n",
    "        # Open the table and the output\n",
    "        self.open_table('r')\n",
    "        output = Table(output_name, output_path, fields_project, new_file=True)\n",
    "        output.open_table('a')\n",
    "\n",
    "        # dict of bucket table\n",
    "        buckets_dict = {}\n",
    "        \n",
    "        # Skip the first line bc it correspond to the schema\n",
    "        self.file.readline()\n",
    "        \n",
    "        for i, page in enumerate(self.file):\n",
    "            #if i<10:\n",
    "            if True :\n",
    "                for record in page.strip().split('@')[:-1]:\n",
    "                    cpteur +=1\n",
    "                    fields = record.split('|')\n",
    "                    attributs = [fields[i] for i in fields_id]\n",
    "                    attributs_str = '|'.join(attributs)\n",
    "\n",
    "                    hash_value = hash_function(attributs[field_hash], number_bucket)\n",
    "                    bucket_path = os.path.join(buckets_path, f'bucket_{hash_value}.txt')\n",
    "\n",
    "                    if not duplicates_elimination:\n",
    "                        output.write(attributs_str + '@', None)\n",
    "\n",
    "\n",
    "                    # If the bucket don't already exist we create it and store the record and add to result\n",
    "                    elif not(hash_value in buckets_dict.keys()):\n",
    "                        buckets_dict[hash_value] = Table(f'bucket_{hash_value}', buckets_path, fields=[' '])\n",
    "                        bucket = buckets_dict[hash_value]\n",
    "                        bucket.open_table('w')                   # Open the file in write mode\n",
    "                        bucket.write(attributs_str + '@', None)  # Write the new value in the bucket\n",
    "                        bucket.close_table()                     # Close the writing process\n",
    "\n",
    "                        output.write(attributs_str + '@', None)        # Write on the output\n",
    "\n",
    "                    # Else we compare only with the good bucket's records and add to \n",
    "                    # the bucket and the output if not present\n",
    "                    else:\n",
    "                        bucket = buckets_dict[hash_value]\n",
    "                        bucket.open_table('r')\n",
    "\n",
    "                        new_record = True\n",
    "                        for page in bucket.file:\n",
    "                            if attributs_str in page.strip().split('@')[:-1]:\n",
    "                                #bucket.close_table()                     # Close the reading process\n",
    "                                new_record = False\n",
    "                                cpteur_duplicates += 1\n",
    "\n",
    "                        if new_record:\n",
    "                            bucket.close_table()                     # Close the reading process\n",
    "                            bucket.open_table('a')                   # Open the file in append mode\n",
    "                            bucket.write(attributs_str + '@', None)  # Write the new value in the bucket\n",
    "                            bucket.close_table()                     # Close the writing process\n",
    "\n",
    "                            output.write(attributs_str + '@', None)        # Write on the output\n",
    "        \n",
    "        print(cpteur, cpteur_duplicates) \n",
    "        shutil.rmtree(buckets_path)  #to supress the created bucket that takes places on the disk\n",
    "        t1 = time()\n",
    "        T = t1 - t0\n",
    "        \n",
    "        print(f'The projection took {T:.4f}s')\n",
    "        \n",
    "        output.close_table()\n",
    "        \n",
    "        return output"
   ]
  },
  {
   "cell_type": "markdown",
   "metadata": {},
   "source": [
    "## Queries : *On laisse ? Si oui il faut laisser la partie Mesure de la classe Table si non on peut avoir un code plus propre*"
   ]
  },
  {
   "cell_type": "markdown",
   "metadata": {
    "id": "V-xgX1tDxe26"
   },
   "source": [
    "#### Query 1 : Importance of number_bucket "
   ]
  },
  {
   "cell_type": "code",
   "execution_count": 7,
   "metadata": {
    "id": "e_-ktD81xXiq"
   },
   "outputs": [],
   "source": [
    "import matplotlib.pyplot as plt\n",
    "import seaborn as sns\n",
    "sns.set_style('darkgrid')"
   ]
  },
  {
   "cell_type": "code",
   "execution_count": 8,
   "metadata": {
    "id": "g8imbY8VxbB7"
   },
   "outputs": [
    {
     "name": "stderr",
     "output_type": "stream",
     "text": [
      "40it [00:09,  4.03it/s]\n"
     ]
    },
    {
     "name": "stdout",
     "output_type": "stream",
     "text": [
      "The projection took 10.0010s\n"
     ]
    },
    {
     "name": "stderr",
     "output_type": "stream",
     "text": [
      "56it [00:09,  5.60it/s]\n"
     ]
    },
    {
     "name": "stdout",
     "output_type": "stream",
     "text": [
      "The projection took 10.0004s\n"
     ]
    },
    {
     "name": "stderr",
     "output_type": "stream",
     "text": [
      "109it [00:09, 10.90it/s]\n"
     ]
    },
    {
     "name": "stdout",
     "output_type": "stream",
     "text": [
      "The projection took 10.0005s\n"
     ]
    },
    {
     "name": "stderr",
     "output_type": "stream",
     "text": [
      "159it [00:09, 15.91it/s]"
     ]
    },
    {
     "name": "stdout",
     "output_type": "stream",
     "text": [
      "The projection took 10.0009s\n"
     ]
    },
    {
     "name": "stderr",
     "output_type": "stream",
     "text": [
      "\n",
      "284it [00:09, 28.44it/s]\n"
     ]
    },
    {
     "name": "stdout",
     "output_type": "stream",
     "text": [
      "The projection took 10.0006s\n"
     ]
    },
    {
     "name": "stderr",
     "output_type": "stream",
     "text": [
      "458it [00:09, 45.85it/s]\n"
     ]
    },
    {
     "name": "stdout",
     "output_type": "stream",
     "text": [
      "The projection took 10.0000s\n"
     ]
    },
    {
     "name": "stderr",
     "output_type": "stream",
     "text": [
      "378it [00:09, 37.81it/s]\n"
     ]
    },
    {
     "name": "stdout",
     "output_type": "stream",
     "text": [
      "The projection took 10.0004s\n"
     ]
    }
   ],
   "source": [
    "x, y = [], []\n",
    "for number_bucket in [1, 2, 5, 15, 30, 60, 100]:\n",
    "    \n",
    "    def hash_function(x):\n",
    "        try:\n",
    "            x = int(x)\n",
    "            return x % number_bucket\n",
    "        except:\n",
    "            return str(x)[0]\n",
    "        \n",
    "    orders_tbl = Table('orders', path='data')\n",
    "    \n",
    "    x.append(number_bucket)\n",
    "    nb_pages = orders_tbl.projection_timed(['O_CUSTKEY'], 0, 10)\n",
    "    y.append(nb_pages)"
   ]
  },
  {
   "cell_type": "code",
   "execution_count": 9,
   "metadata": {
    "id": "XEFj_98Ixd7f"
   },
   "outputs": [
    {
     "data": {
      "image/png": "[encoded data removed]",
      "text/plain": [
       "<Figure size 432x288 with 1 Axes>"
      ]
     },
     "metadata": {},
     "output_type": "display_data"
    }
   ],
   "source": [
    "plt.scatter(x, y)\n",
    "plt.ylabel('Number of page in 10s')\n",
    "plt.xlabel('Number of buckets')\n",
    "plt.title('Number of pages projected in 10s in function of the number of buckets')\n",
    "plt.savefig('fig1.png')\n",
    "plt.show()"
   ]
  },
  {
   "cell_type": "markdown",
   "metadata": {
    "id": "EnIqkg63xoKA"
   },
   "source": [
    "#### Query 2 : Importance of number_buckets in hash join"
   ]
  },
  {
   "cell_type": "code",
   "execution_count": 8,
   "metadata": {},
   "outputs": [
    {
     "name": "stderr",
     "output_type": "stream",
     "text": [
      "3415it [00:08, 380.33it/s]\n",
      "0it [00:11, ?it/s]\n"
     ]
    },
    {
     "name": "stdout",
     "output_type": "stream",
     "text": [
      "The join (using the hash method) took 20.0520s\n"
     ]
    },
    {
     "name": "stderr",
     "output_type": "stream",
     "text": [
      "3415it [00:09, 342.10it/s]\n",
      "177it [00:10, 17.70it/s]\n"
     ]
    },
    {
     "name": "stdout",
     "output_type": "stream",
     "text": [
      "The join (using the hash method) took 20.0015s\n"
     ]
    },
    {
     "name": "stderr",
     "output_type": "stream",
     "text": [
      "3415it [00:10, 336.44it/s]\n",
      "342it [00:09, 34.75it/s]\n"
     ]
    },
    {
     "name": "stdout",
     "output_type": "stream",
     "text": [
      "The join (using the hash method) took 20.0293s\n"
     ]
    },
    {
     "name": "stderr",
     "output_type": "stream",
     "text": [
      "3415it [00:10, 317.79it/s]\n",
      "471it [00:09, 50.97it/s]\n"
     ]
    },
    {
     "name": "stdout",
     "output_type": "stream",
     "text": [
      "The join (using the hash method) took 20.0052s\n"
     ]
    },
    {
     "name": "stderr",
     "output_type": "stream",
     "text": [
      "3415it [00:11, 302.74it/s]\n",
      "485it [00:07, 65.31it/s]\n"
     ]
    },
    {
     "name": "stdout",
     "output_type": "stream",
     "text": [
      "The join (using the hash method) took 18.7506s\n"
     ]
    },
    {
     "name": "stderr",
     "output_type": "stream",
     "text": [
      "3415it [00:12, 277.55it/s]\n",
      "485it [00:06, 80.15it/s] \n"
     ]
    },
    {
     "name": "stdout",
     "output_type": "stream",
     "text": [
      "The join (using the hash method) took 18.4063s\n"
     ]
    },
    {
     "name": "stderr",
     "output_type": "stream",
     "text": [
      "3415it [00:11, 290.18it/s]\n",
      "485it [00:05, 94.60it/s] "
     ]
    },
    {
     "name": "stdout",
     "output_type": "stream",
     "text": [
      "The join (using the hash method) took 16.9624s\n"
     ]
    },
    {
     "name": "stderr",
     "output_type": "stream",
     "text": [
      "\n"
     ]
    }
   ],
   "source": [
    "x, y, lst_time_hash = [], [], []\n",
    "for number_bucket in [20, 30, 60, 90, 120, 150, 180]:\n",
    "    \n",
    "    def hash_function(x):\n",
    "        try:\n",
    "            x = int(x)\n",
    "            return x % number_bucket\n",
    "        except:\n",
    "            return str(x)[0]\n",
    "        \n",
    "    customer_tbl = Table('customer', 'data')\n",
    "    orders_tbl = Table('orders', 'data')\n",
    "    \n",
    "    x.append(number_bucket)\n",
    "    nb_pages, _, time_hash = customer_tbl.hash_join_timed(orders_tbl, 'C_CUSTKEY', 'O_CUSTKEY', 20)\n",
    "    y.append(nb_pages)\n",
    "    lst_time_hash.append(time_hash)"
   ]
  },
  {
   "cell_type": "code",
   "execution_count": 9,
   "metadata": {},
   "outputs": [
    {
     "data": {
      "image/png": "[encoded data removed]",
      "text/plain": [
       "<Figure size 432x288 with 1 Axes>"
      ]
     },
     "metadata": {},
     "output_type": "display_data"
    }
   ],
   "source": [
    "plt.scatter(x, y)\n",
    "plt.ylabel('Number of page in 10s')\n",
    "plt.xlabel('Number of buckets')\n",
    "plt.title('Number of pages joined in 10s in function of the number of buckets')\n",
    "plt.savefig('fig2.png')\n",
    "plt.show()"
   ]
  },
  {
   "cell_type": "code",
   "execution_count": 10,
   "metadata": {},
   "outputs": [
    {
     "data": {
      "image/png": "[encoded data removed]",
      "text/plain": [
       "<Figure size 432x288 with 1 Axes>"
      ]
     },
     "metadata": {},
     "output_type": "display_data"
    }
   ],
   "source": [
    "plt.scatter(x, lst_time_hash)\n",
    "plt.ylabel('Time to hash')\n",
    "plt.xlabel('Number of buckets')\n",
    "plt.title('Time to hash the table in function of the number of buckets')\n",
    "plt.savefig('fig3.png')\n",
    "plt.show()"
   ]
  },
  {
   "cell_type": "markdown",
   "metadata": {},
   "source": [
    "#### Query 3 : the importance of hashing for joint operation"
   ]
  },
  {
   "cell_type": "code",
   "execution_count": 36,
   "metadata": {},
   "outputs": [],
   "source": [
    "name_1 = 'nation'\n",
    "name_2 = 'supplier'\n",
    "\n",
    "path = 'data'\n",
    "\n",
    "nation_tbl = Table(name_1, path)\n",
    "supplier_tbl = Table(name_2, path)"
   ]
  },
  {
   "cell_type": "code",
   "execution_count": 38,
   "metadata": {},
   "outputs": [
    {
     "name": "stderr",
     "output_type": "stream",
     "text": [
      "2it [00:00,  8.42it/s]"
     ]
    },
    {
     "name": "stdout",
     "output_type": "stream",
     "text": [
      "The join (using the nested loop method) took 0.2439s\n"
     ]
    },
    {
     "name": "stderr",
     "output_type": "stream",
     "text": [
      "\n"
     ]
    }
   ],
   "source": [
    "nation_tbl.nested_loop_join(supplier_tbl, 'N_NATIONKEY', 'S_NATIONKEY').print_table(float('inf'))"
   ]
  },
  {
   "cell_type": "code",
   "execution_count": 40,
   "metadata": {},
   "outputs": [
    {
     "name": "stderr",
     "output_type": "stream",
     "text": [
      "30it [00:00, 335.51it/s]\n",
      "1it [00:00, 20.34it/s]\n"
     ]
    },
    {
     "name": "stdout",
     "output_type": "stream",
     "text": [
      "The join (using the hash method) took 0.1516s\n"
     ]
    }
   ],
   "source": [
    "nation_tbl.hash_join(supplier_tbl, 'N_NATIONKEY', 'S_NATIONKEY').print_table(float('inf'))"
   ]
  },
  {
   "cell_type": "markdown",
   "metadata": {},
   "source": [
    "For the join between supplier and clients for each page :\n",
    "  - neasted_loop_join : 30s\n",
    "  - hash_join : 8s"
   ]
  },
  {
   "cell_type": "markdown",
   "metadata": {
    "id": "3mhiiMhgxzQO"
   },
   "source": [
    "### Business Query"
   ]
  },
  {
   "cell_type": "markdown",
   "metadata": {
    "id": "lIQ_9OZ5x4a-"
   },
   "source": [
    "The sum spent by client goupe by region\n",
    "\n",
    "We create and get the table that will be used."
   ]
  },
  {
   "cell_type": "code",
   "execution_count": 106,
   "metadata": {
    "id": "Vs0aGuvnxymH",
    "jupyter": {
     "source_hidden": true
    },
    "tags": []
   },
   "outputs": [],
   "source": [
    "path = 'data'\n",
    "\n",
    "customer_tbl = Table('customer', path)\n",
    "orders_tbl = Table('orders', path)\n",
    "nation_tbl = Table('nation', path)\n",
    "region_tbl = Table('region', path)"
   ]
  },
  {
   "cell_type": "markdown",
   "metadata": {},
   "source": [
    "On réccupère la jointure des clients avec les commandes puis on associe la nation et la region à chaque ligne.\n",
    "We create the joint table of clients with orders and then add the nation and region table to get the name of the region of the client."
   ]
  },
  {
   "cell_type": "code",
   "execution_count": 112,
   "metadata": {
    "id": "AlvGA9s3y3mP"
   },
   "outputs": [
    {
     "name": "stderr",
     "output_type": "stream",
     "text": [
      "486it [00:01, 317.29it/s]\n",
      "3414it [14:06,  4.03it/s]"
     ]
    },
    {
     "name": "stdout",
     "output_type": "stream",
     "text": [
      "The join (using the hash method) took 848.0156s\n"
     ]
    },
    {
     "name": "stderr",
     "output_type": "stream",
     "text": [
      "\n"
     ]
    }
   ],
   "source": [
    "tbl1 = orders_tbl.hash_join(customer_tbl, 'O_CUSTKEY', 'C_CUSTKEY', output_name='tmp1')"
   ]
  },
  {
   "cell_type": "code",
   "execution_count": 113,
   "metadata": {
    "id": "AlvGA9s3y3mP"
   },
   "outputs": [
    {
     "name": "stderr",
     "output_type": "stream",
     "text": [
      "2it [00:00, 120.56it/s]\n",
      "8273it [00:30, 272.75it/s]"
     ]
    },
    {
     "name": "stdout",
     "output_type": "stream",
     "text": [
      "The join (using the hash method) took 30.3736s\n"
     ]
    },
    {
     "name": "stderr",
     "output_type": "stream",
     "text": [
      "\n"
     ]
    }
   ],
   "source": [
    "tbl2 = tbl1.hash_join(nation_tbl, 'C_NATIONKEY', 'N_NATIONKEY', output_name='tmp2')"
   ]
  },
  {
   "cell_type": "code",
   "execution_count": 114,
   "metadata": {},
   "outputs": [
    {
     "name": "stderr",
     "output_type": "stream",
     "text": [
      "2it [00:00, 311.09it/s]\n",
      "10929it [00:27, 396.22it/s]"
     ]
    },
    {
     "name": "stdout",
     "output_type": "stream",
     "text": [
      "The join (using the hash method) took 27.6043s\n"
     ]
    },
    {
     "name": "stderr",
     "output_type": "stream",
     "text": [
      "\n"
     ]
    }
   ],
   "source": [
    "tbl3 = tbl2.hash_join(region_tbl, 'N_REGIONKEY', 'R_REGIONKEY', output_name='tmp3')"
   ]
  },
  {
   "cell_type": "markdown",
   "metadata": {},
   "source": [
    "We group client based on region.\n",
    "And add the order price for each."
   ]
  },
  {
   "cell_type": "code",
   "execution_count": 115,
   "metadata": {
    "id": "AlvGA9s3y3mP"
   },
   "outputs": [],
   "source": [
    "tbl3.group_by('R_NAME')"
   ]
  },
  {
   "cell_type": "code",
   "execution_count": 117,
   "metadata": {
    "id": "AlvGA9s3y3mP"
   },
   "outputs": [],
   "source": [
    "for name in os.listdir('results_group_by'):\n",
    "    if not('index' in name or 'ipynb' in name):\n",
    "        tbl4 = Table(name[:-4], 'results_group_by', fields=tbl3.fields)\n",
    "        tbl4.agreggate_sum(['O_TOTALPRICE'], output_name=f'result_query_{name[:-4]}').print_table()"
   ]
  },
  {
   "cell_type": "code",
   "execution_count": 119,
   "metadata": {},
   "outputs": [],
   "source": [
    "orders_tbl.agreggate_sum(['O_TOTALPRICE']).print_table()"
   ]
  },
  {
   "cell_type": "markdown",
   "metadata": {},
   "source": [
    "We get : \n",
    "   - AFRICA : 197694295.47\n",
    "   - AMERICA : 180465357.14\n",
    "   - ASIA : 223490221.82\n",
    "   - EUROPE : 209595477.14\n",
    "   - MIDDLE EAST : 183109331.93"
   ]
  },
  {
   "cell_type": "code",
   "execution_count": null,
   "metadata": {},
   "outputs": [],
   "source": []
  }
 ],
 "metadata": {
  "colab": {
   "collapsed_sections": [],
   "name": "Projet_row_storage.ipynb",
   "provenance": []
  },
  "kernelspec": {
   "display_name": "Python 3 (ipykernel)",
   "language": "python",
   "name": "python3"
  },
  "language_info": {
   "codemirror_mode": {
    "name": "ipython",
    "version": 3
   },
   "file_extension": ".py",
   "mimetype": "text/x-python",
   "name": "python",
   "nbconvert_exporter": "python",
   "pygments_lexer": "ipython3",
   "version": "3.9.7"
  }
 },
 "nbformat": 4,
 "nbformat_minor": 4
}
