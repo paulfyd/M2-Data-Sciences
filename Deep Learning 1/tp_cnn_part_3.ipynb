{
  "nbformat": 4,
  "nbformat_minor": 0,
  "metadata": {
    "colab": {
      "name": "tp_deep_learning_cnn_part_3_for_students.ipynb",
      "provenance": [],
      "collapsed_sections": []
    },
    "kernelspec": {
      "name": "python3",
      "display_name": "Python 3"
    },
    "language_info": {
      "name": "python"
    },
    "accelerator": "GPU"
  },
  "cells": [
    {
      "cell_type": "markdown",
      "metadata": {
        "id": "mPf2yufekv0f"
      },
      "source": [
        "\n",
        "# TP CNN, part 3 : super-resolution\n",
        "\n",
        "Author : Alasdair Newson\n",
        "alasdair.newson@telecom-paris.fr\n",
        " \n",
        "## Objective:\n",
        "\n",
        "We want to implement a Convolutional Neural Network (CNN) to do image super-resolution.\n",
        "\n",
        "## Image super-resolution:\n",
        "\n",
        "The super-resolution problem can be summarised as follows. We have an image as an input, which is defined over a grid $\\{0,1,\\dots, m-1\\} \\times \\{0,1,\\dots, n-1\\}$. We define a factor $\\delta$, by which we upsample the image. The output of the super-resolution is an image defined on the grid $\\{0,\\frac{1}{\\delta},\\dots, m-1\\} \\times \\{0,\\frac{1}{\\delta},\\dots, n-1\\}$.\n",
        "\n",
        "## Model\n",
        "\n",
        "In this part of the TP, you have complete freedom to create any model you want, as long as the input is an image, and the output is also an image of size $\\delta m \\times \\delta n$. You will have to choose the architecture and loss which seems reasonable to you.\n",
        "\n",
        "To help you, here is a function to upsample images in neural networks :\n",
        "\n",
        "- ```from tensorflow.keras.layers import UpSampling2D```\n",
        "\n",
        "Of course, you can use any upsampling layer you wish. \n",
        "\n",
        "## Dataset\n",
        "\n",
        "We will be using the mnist dataset for this part. This is to ensure that you can obtain good results. The input data should be the subsampled version of the mnist images, subsampled by taking one out of every $\\delta$ pixels. The output data should be the normal-resolution mnist images.\n",
        "\n",
        "__IMPORTANT NOTES:__\n",
        "- Think carefully about what the training data and labels are in this case, and create them accordingly\n",
        "- We will use ```n_max=5000``` to limit the number of datapoints (as in part 1) to go faster\n",
        "- We set $\\delta$ to 2 in this TP, because it is not too difficult to create a network that works with this factor. If you change it, it might be more difficult to create a satisfactory network.\n",
        "\n",
        "# Your task:\n",
        "You have to load the mnist data (see the first part of the TP), create the model, train it, and evaluate and display the results.\n",
        "\n",
        "We have created a function ```super_res_interpolate```, which carries out super-resolution using basic interpolation (bilinear or bicubic), with which you can compare your results visually and numerically.\n",
        "\n"
      ]
    },
    {
      "cell_type": "code",
      "metadata": {
        "id": "5utO2_UDyKs3",
        "colab": {
          "base_uri": "https://localhost:8080/"
        },
        "outputId": "a5f62822-7ed5-49a7-9be4-3963e47364de"
      },
      "source": [
        "\n",
        "# # Load packages\n",
        "\n",
        "%matplotlib inline\n",
        "import matplotlib.pyplot as plt\n",
        "import numpy as np\n",
        "\n",
        "import tensorflow as tf\n",
        "from tensorflow.keras.utils import to_categorical\n",
        "\n",
        "from tensorflow.keras.models import Sequential, Model\n",
        "from tensorflow.keras.layers import Dense, Dropout, Activation, Flatten, Input\n",
        "from tensorflow.keras.layers import Conv2D, MaxPooling2D, UpSampling2D\n",
        "from tensorflow.keras import optimizers\n",
        "from scipy import interpolate\n",
        "print(tf.keras.__version__)"
      ],
      "execution_count": 1,
      "outputs": [
        {
          "output_type": "stream",
          "name": "stdout",
          "text": [
            "2.7.0\n"
          ]
        }
      ]
    },
    {
      "cell_type": "markdown",
      "metadata": {
        "id": "mcXyExW4vgmk"
      },
      "source": [
        "This next cell is the only code you are given to carry out the TP. This function carries out a bilinear upsampling, with which you can compare your super-resolution. This function is __not__ supposed to be used by you in your network."
      ]
    },
    {
      "cell_type": "code",
      "metadata": {
        "id": "np3Dj3tuqEqn"
      },
      "source": [
        "# choice of the interpolation method\n",
        "interp_method = 'linear'\n",
        "# upsampling factor\n",
        "delta = 2\n",
        "# the maximum number of data to take from mnist (to go a bit faster)\n",
        "n_max = 5000\n",
        "\n",
        "# upsample by a factor of delta\n",
        "# by definition, the new grid has a step size of 1/delta\n",
        "def super_res_interpolate(imgs_in,delta,interp_method = 'linear'):\n",
        "\timgs_out = tf.image.resize( tf.constant(imgs_in),\\\n",
        "\t\t[delta*imgs_in.shape[1],delta*imgs_in.shape[2]], method='bilinear').numpy()\n",
        "\n",
        "\treturn(imgs_out)\n"
      ],
      "execution_count": 2,
      "outputs": []
    },
    {
      "cell_type": "markdown",
      "metadata": {
        "id": "vLGjn0zP5h0V"
      },
      "source": [
        "## Create your super-resolution network\n",
        "\n",
        "The rest is up to you ! Import the data, format it (you can use the first part of the TP as help), create your network, train it, and compare the results with ```super_res_interpolate```.\n",
        "\n",
        "Your network should be able to achieve about $80\\%$ accuracy.\n",
        "\n",
        "__Note__ you can obviously create as many cells as you like in your work."
      ]
    },
    {
      "cell_type": "markdown",
      "metadata": {
        "id": "S7ELSCU3gZ0L"
      },
      "source": [
        "**1) Importing MNIST correctly (correctly formatting the data) : 1 point**"
      ]
    },
    {
      "cell_type": "code",
      "metadata": {
        "id": "LwWVMg6lkP7T"
      },
      "source": [
        "def subsample(img, delta):\n",
        "  n = img.shape[0]\n",
        "  new_n = n // delta\n",
        "  new_img = np.zeros((new_n, new_n))\n",
        "  for i in range(n):\n",
        "    for j in range(n):\n",
        "      if i%delta and j%delta:\n",
        "        new_img[i//delta][j//delta] = img[i][j]\n",
        "\n",
        "  return new_img"
      ],
      "execution_count": 3,
      "outputs": []
    },
    {
      "cell_type": "code",
      "metadata": {
        "id": "z1cetvuJptRa"
      },
      "source": [
        "def do_reshape(X):\n",
        "  img_rows, img_cols, nb_channels = X.shape[1], X.shape[2], 1\n",
        "  X = X.reshape(X.shape[0], img_rows, img_cols, nb_channels)\n",
        "  X = X.astype('float32')\n",
        "  X /= 255\n",
        "  return X"
      ],
      "execution_count": 4,
      "outputs": []
    },
    {
      "cell_type": "code",
      "metadata": {
        "colab": {
          "base_uri": "https://localhost:8080/"
        },
        "id": "-eqBm6B9gcIT",
        "outputId": "a1e86e48-fff3-4e53-ea19-1b7e58d7c6fc"
      },
      "source": [
        "from keras.datasets import mnist\n",
        "\n",
        "(X_train, _), (X_test, _) = mnist.load_data()\n",
        "X_train = X_train[0:n_max,:,:]\n",
        "X_test = X_test[0:n_max,:,:]\n",
        "\n",
        "X_train_subsampled = np.array([subsample(img, delta) for img in X_train])\n",
        "X_test_subsampled = np.array([subsample(img, delta) for img in X_test])\n",
        "\n",
        "X_train = do_reshape(X_train)\n",
        "X_test = do_reshape(X_test)\n",
        "X_train_subsampled = do_reshape(X_train_subsampled)\n",
        "X_test = do_reshape(X_test)"
      ],
      "execution_count": 5,
      "outputs": [
        {
          "output_type": "stream",
          "name": "stdout",
          "text": [
            "Downloading data from https://storage.googleapis.com/tensorflow/tf-keras-datasets/mnist.npz\n",
            "11493376/11490434 [==============================] - 0s 0us/step\n",
            "11501568/11490434 [==============================] - 0s 0us/step\n"
          ]
        }
      ]
    },
    {
      "cell_type": "markdown",
      "metadata": {
        "id": "wbeaL5g8kv7Q"
      },
      "source": [
        "**2) Creating a model which makes sense (correct input/output sizes) : 1 point**"
      ]
    },
    {
      "cell_type": "code",
      "metadata": {
        "id": "LeunGgGjlHzl"
      },
      "source": [
        "learning_rate = 0.01\n",
        "n_epochs = 30\n",
        "batch_size = 64\n",
        "\n",
        "# number of convolutional filters to use\n",
        "nb_filters = 32\n",
        "# convolution kernel size\n",
        "kernel_size = (3, 3)\n",
        "# size of pooling area for max pooling\n",
        "pool_size = (2, 2)\n",
        "\n",
        "# --- Size of the successive layers\n",
        "n_h_1 = nb_filters\n",
        "n_h_2 = nb_filters"
      ],
      "execution_count": 16,
      "outputs": []
    },
    {
      "cell_type": "code",
      "metadata": {
        "id": "VbHEWpjJkwsK"
      },
      "source": [
        "model = Sequential()\n",
        "model.add(Conv2D(filters=n_h_1, kernel_size=kernel_size, name='Conv1', strides=(1,1), padding='same', activation='relu'))\n",
        "model.add(Conv2D(filters=n_h_2, kernel_size=kernel_size, name='Conv2', strides=(1,1), padding='same', activation='relu'))\n",
        "model.add(UpSampling2D((2, 2)))\n",
        "model.add(Conv2D(1, (3, 3), activation='sigmoid', padding='same'))"
      ],
      "execution_count": 17,
      "outputs": []
    },
    {
      "cell_type": "markdown",
      "metadata": {
        "id": "SqczEjIXpaxD"
      },
      "source": [
        "**3) Training and achieving good results : 2 points. 1 point if the learning increases but does not reach around  80% , 2 points if the learning reaches around  80%**"
      ]
    },
    {
      "cell_type": "code",
      "metadata": {
        "colab": {
          "base_uri": "https://localhost:8080/"
        },
        "id": "5iKhE-1umdEI",
        "outputId": "f776bd6b-5433-4397-977b-79554e2fe267"
      },
      "source": [
        "model.compile(optimizer=optimizers.Adam(learning_rate=learning_rate), loss='mean_squared_error', metrics=['accuracy'])\n",
        "model.fit(X_train_subsampled, X_train, epochs=n_epochs, batch_size=batch_size)\n",
        "model.summary()"
      ],
      "execution_count": 18,
      "outputs": [
        {
          "output_type": "stream",
          "name": "stdout",
          "text": [
            "Epoch 1/30\n",
            "79/79 [==============================] - 1s 8ms/step - loss: 0.0193 - accuracy: 0.8077\n",
            "Epoch 2/30\n",
            "79/79 [==============================] - 1s 8ms/step - loss: 0.0066 - accuracy: 0.8141\n",
            "Epoch 3/30\n",
            "79/79 [==============================] - 1s 8ms/step - loss: 0.0060 - accuracy: 0.8143\n",
            "Epoch 4/30\n",
            "79/79 [==============================] - 1s 8ms/step - loss: 0.0057 - accuracy: 0.8144\n",
            "Epoch 5/30\n",
            "79/79 [==============================] - 1s 8ms/step - loss: 0.0056 - accuracy: 0.8144\n",
            "Epoch 6/30\n",
            "79/79 [==============================] - 1s 8ms/step - loss: 0.0053 - accuracy: 0.8145\n",
            "Epoch 7/30\n",
            "79/79 [==============================] - 1s 8ms/step - loss: 0.0052 - accuracy: 0.8145\n",
            "Epoch 8/30\n",
            "79/79 [==============================] - 1s 8ms/step - loss: 0.0052 - accuracy: 0.8145\n",
            "Epoch 9/30\n",
            "79/79 [==============================] - 1s 8ms/step - loss: 0.0051 - accuracy: 0.8145\n",
            "Epoch 10/30\n",
            "79/79 [==============================] - 1s 8ms/step - loss: 0.0051 - accuracy: 0.8145\n",
            "Epoch 11/30\n",
            "79/79 [==============================] - 1s 8ms/step - loss: 0.0050 - accuracy: 0.8145\n",
            "Epoch 12/30\n",
            "79/79 [==============================] - 1s 8ms/step - loss: 0.0049 - accuracy: 0.8145\n",
            "Epoch 13/30\n",
            "79/79 [==============================] - 1s 8ms/step - loss: 0.0049 - accuracy: 0.8146\n",
            "Epoch 14/30\n",
            "79/79 [==============================] - 1s 8ms/step - loss: 0.0049 - accuracy: 0.8146\n",
            "Epoch 15/30\n",
            "79/79 [==============================] - 1s 8ms/step - loss: 0.0048 - accuracy: 0.8146\n",
            "Epoch 16/30\n",
            "79/79 [==============================] - 1s 9ms/step - loss: 0.0048 - accuracy: 0.8146\n",
            "Epoch 17/30\n",
            "79/79 [==============================] - 1s 8ms/step - loss: 0.0047 - accuracy: 0.8146\n",
            "Epoch 18/30\n",
            "79/79 [==============================] - 1s 8ms/step - loss: 0.0047 - accuracy: 0.8146\n",
            "Epoch 19/30\n",
            "79/79 [==============================] - 1s 8ms/step - loss: 0.0047 - accuracy: 0.8146\n",
            "Epoch 20/30\n",
            "79/79 [==============================] - 1s 8ms/step - loss: 0.0047 - accuracy: 0.8146\n",
            "Epoch 21/30\n",
            "79/79 [==============================] - 1s 9ms/step - loss: 0.0047 - accuracy: 0.8146\n",
            "Epoch 22/30\n",
            "79/79 [==============================] - 1s 9ms/step - loss: 0.0046 - accuracy: 0.8146\n",
            "Epoch 23/30\n",
            "79/79 [==============================] - 1s 9ms/step - loss: 0.0047 - accuracy: 0.8146\n",
            "Epoch 24/30\n",
            "79/79 [==============================] - 1s 8ms/step - loss: 0.0046 - accuracy: 0.8146\n",
            "Epoch 25/30\n",
            "79/79 [==============================] - 1s 9ms/step - loss: 0.0046 - accuracy: 0.8146\n",
            "Epoch 26/30\n",
            "79/79 [==============================] - 1s 8ms/step - loss: 0.0046 - accuracy: 0.8146\n",
            "Epoch 27/30\n",
            "79/79 [==============================] - 1s 9ms/step - loss: 0.0045 - accuracy: 0.8146\n",
            "Epoch 28/30\n",
            "79/79 [==============================] - 1s 9ms/step - loss: 0.0046 - accuracy: 0.8146\n",
            "Epoch 29/30\n",
            "79/79 [==============================] - 1s 8ms/step - loss: 0.0046 - accuracy: 0.8146\n",
            "Epoch 30/30\n",
            "79/79 [==============================] - 1s 8ms/step - loss: 0.0046 - accuracy: 0.8146\n",
            "Model: \"sequential_2\"\n",
            "_________________________________________________________________\n",
            " Layer (type)                Output Shape              Param #   \n",
            "=================================================================\n",
            " Conv1 (Conv2D)              (None, 14, 14, 32)        320       \n",
            "                                                                 \n",
            " Conv2 (Conv2D)              (None, 14, 14, 32)        9248      \n",
            "                                                                 \n",
            " up_sampling2d_2 (UpSampling  (None, 28, 28, 32)       0         \n",
            " 2D)                                                             \n",
            "                                                                 \n",
            " conv2d_2 (Conv2D)           (None, 28, 28, 1)         289       \n",
            "                                                                 \n",
            "=================================================================\n",
            "Total params: 9,857\n",
            "Trainable params: 9,857\n",
            "Non-trainable params: 0\n",
            "_________________________________________________________________\n"
          ]
        }
      ]
    },
    {
      "cell_type": "code",
      "metadata": {
        "colab": {
          "base_uri": "https://localhost:8080/"
        },
        "id": "m-BLeTg3qTS4",
        "outputId": "ee8a87da-0612-41f3-a63e-0d4e18bf429a"
      },
      "source": [
        "score = model.evaluate(X_train_subsampled, X_train, verbose=False)\n",
        "print('Train loss:', score[0])\n",
        "print('Train accuracy:', score[1])"
      ],
      "execution_count": 19,
      "outputs": [
        {
          "output_type": "stream",
          "name": "stdout",
          "text": [
            "Train loss: 0.004689191468060017\n",
            "Train accuracy: 0.8144823908805847\n"
          ]
        }
      ]
    },
    {
      "cell_type": "code",
      "metadata": {
        "colab": {
          "base_uri": "https://localhost:8080/"
        },
        "id": "7c0WXwtQpbzX",
        "outputId": "dd342af0-85a3-48de-bf43-ac4edd48ded2"
      },
      "source": [
        "score = model.evaluate(X_test_subsampled, X_test, verbose=False)\n",
        "print('Test loss:', score[0])\n",
        "print('Test accuracy:', score[1])"
      ],
      "execution_count": 20,
      "outputs": [
        {
          "output_type": "stream",
          "name": "stdout",
          "text": [
            "Test loss: 0.2969881594181061\n",
            "Test accuracy: 0.700494647026062\n"
          ]
        }
      ]
    },
    {
      "cell_type": "markdown",
      "metadata": {
        "id": "s4-1NECAqgOa"
      },
      "source": [
        "**4) Display a visual comparison of your network with super_res_interpolate for several examples**"
      ]
    },
    {
      "cell_type": "code",
      "metadata": {
        "id": "ngDX5VrhqhlP"
      },
      "source": [
        "images_predicted_model = model.predict(X_test_subsampled)\n",
        "images_predicted_func = super_res_interpolate(X_test_subsampled, delta)"
      ],
      "execution_count": 40,
      "outputs": []
    },
    {
      "cell_type": "code",
      "metadata": {
        "colab": {
          "base_uri": "https://localhost:8080/"
        },
        "id": "_9Q5PzoRq1yK",
        "outputId": "76dc5003-95f0-4394-cee2-841c33442ea7"
      },
      "source": [
        "images_predicted_model.shape"
      ],
      "execution_count": 41,
      "outputs": [
        {
          "output_type": "execute_result",
          "data": {
            "text/plain": [
              "(5000, 28, 28, 1)"
            ]
          },
          "metadata": {},
          "execution_count": 41
        }
      ]
    },
    {
      "cell_type": "code",
      "metadata": {
        "colab": {
          "base_uri": "https://localhost:8080/"
        },
        "id": "jNA9aFC_rN-g",
        "outputId": "f217270f-97f1-4a1b-9701-ee985bed40e9"
      },
      "source": [
        "images_predicted_func.shape"
      ],
      "execution_count": 42,
      "outputs": [
        {
          "output_type": "execute_result",
          "data": {
            "text/plain": [
              "(28, 28, 14)"
            ]
          },
          "metadata": {},
          "execution_count": 42
        }
      ]
    },
    {
      "cell_type": "code",
      "metadata": {
        "colab": {
          "base_uri": "https://localhost:8080/"
        },
        "id": "JpT6VyFHxAtp",
        "outputId": "ea2c5853-56f4-453c-ed89-c9ac95aa79f9"
      },
      "source": [
        "X_test_subsampled.shape"
      ],
      "execution_count": 52,
      "outputs": [
        {
          "output_type": "execute_result",
          "data": {
            "text/plain": [
              "(5000, 14, 14)"
            ]
          },
          "metadata": {},
          "execution_count": 52
        }
      ]
    },
    {
      "cell_type": "code",
      "metadata": {
        "colab": {
          "base_uri": "https://localhost:8080/",
          "height": 761
        },
        "id": "_gtoZmbuwh8f",
        "outputId": "9b9c6c7c-0d85-4d07-b4d9-eadf4901404a"
      },
      "source": [
        "plt.imshow(X_test[1].reshape(28, 28), cmap='gray')\n",
        "plt.show()\n",
        "plt.imshow(X_test_subsampled[1].reshape(14, 14), cmap='gray')\n",
        "plt.show()\n",
        "plt.imshow(images_predicted_model[1].reshape(28, 28), cmap='gray')\n",
        "plt.show()"
      ],
      "execution_count": 53,
      "outputs": [
        {
          "output_type": "display_data",
          "data": {
            "image/png": "[encoded data removed]",
            "text/plain": [
              "<Figure size 432x288 with 1 Axes>"
            ]
          },
          "metadata": {
            "needs_background": "light"
          }
        },
        {
          "output_type": "display_data",
          "data": {
            "image/png": "[encoded data removed]",
            "text/plain": [
              "<Figure size 432x288 with 1 Axes>"
            ]
          },
          "metadata": {
            "needs_background": "light"
          }
        },
        {
          "output_type": "display_data",
          "data": {
            "image/png": "[encoded data removed]",
            "text/plain": [
              "<Figure size 432x288 with 1 Axes>"
            ]
          },
          "metadata": {
            "needs_background": "light"
          }
        }
      ]
    },
    {
      "cell_type": "code",
      "metadata": {
        "id": "PP0XHd8jwupO"
      },
      "source": [
        ""
      ],
      "execution_count": null,
      "outputs": []
    },
    {
      "cell_type": "markdown",
      "metadata": {
        "id": "nssRP8NRAQtA"
      },
      "source": [
        "# Evaluation\n",
        "\n",
        "To evaluate the work, you should rate the code for \n",
        "- 1) Importing MNIST correctly (correctly formatting the data) : 1 point\n",
        "- 2) Creating a model which makes sense (correct input/output sizes) : 1 point\n",
        "- 3) Training and achieving good results  : 2 points. 1 point if the learning increases but does not reach around $80\\%$, 2 points if the learning reaches around $80\\%$\n",
        "- 4) Display a visual comparison of your network with ```super_res_interpolate``` for several examples\n",
        "\n",
        "Total over 5 points.\n"
      ]
    }
  ]
}