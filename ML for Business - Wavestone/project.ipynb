{
 "cells": [
  {
   "cell_type": "markdown",
   "id": "9411903c",
   "metadata": {},
   "source": [
    "## Import and functions"
   ]
  },
  {
   "cell_type": "code",
   "execution_count": 1,
   "id": "0f73f9b9",
   "metadata": {},
   "outputs": [],
   "source": [
    "import numpy as np\n",
    "import matplotlib.pyplot as plt\n",
    "import sklearn\n",
    "import pandas as pd\n",
    "import os\n",
    "import seaborn as sns\n",
    "\n",
    "from sklearn.metrics import mean_absolute_error, mean_absolute_percentage_error, mean_squared_error\n",
    "from sklearn.model_selection import train_test_split"
   ]
  },
  {
   "cell_type": "code",
   "execution_count": 2,
   "id": "17a3b3fc",
   "metadata": {},
   "outputs": [],
   "source": [
    "sns.set_style('darkgrid')"
   ]
  },
  {
   "cell_type": "code",
   "execution_count": 3,
   "id": "05e1fb0b",
   "metadata": {},
   "outputs": [],
   "source": [
    "def print_score(Y_test, Y_pred):\n",
    "    mae = mean_absolute_error(Y_test, Y_pred)\n",
    "    mape = mean_absolute_percentage_error(Y_test, Y_pred)\n",
    "    mse = mean_squared_error(Y_test, Y_pred)\n",
    "    print(f'MAE : {mae:.2f}')\n",
    "    print(f'MAPE : {100*mape:.2f}%')\n",
    "    print(f'MSE : {mse:.0f}')"
   ]
  },
  {
   "cell_type": "code",
   "execution_count": 4,
   "id": "7e65465a",
   "metadata": {},
   "outputs": [],
   "source": [
    "def get_date_opening_concu(row):\n",
    "    year = int(row.CompetitionOpenSinceYear)\n",
    "    month = int(row.CompetitionOpenSinceMonth)\n",
    "    return pd.Timestamp(year=year, month=month, day=1)"
   ]
  },
  {
   "cell_type": "code",
   "execution_count": 5,
   "id": "69e15898",
   "metadata": {},
   "outputs": [],
   "source": [
    "def get_has_concu_since(row):\n",
    "    date1 = pd.Timestamp(row.Date)\n",
    "    date2 = row.date_concu\n",
    "    return max((date1 - date2).days, 0)"
   ]
  },
  {
   "cell_type": "code",
   "execution_count": 6,
   "id": "3c52145f",
   "metadata": {},
   "outputs": [],
   "source": [
    "def get_year(date):\n",
    "    return int(date.split('-')[0])\n",
    "\n",
    "def get_month(date):\n",
    "    return int(date.split('-')[1])\n",
    "\n",
    "def get_day(date):\n",
    "    return int(date.split('-')[2])"
   ]
  },
  {
   "cell_type": "markdown",
   "id": "32f03e2b",
   "metadata": {},
   "source": [
    "## Data preparation"
   ]
  },
  {
   "cell_type": "code",
   "execution_count": 7,
   "id": "40bd7617",
   "metadata": {},
   "outputs": [],
   "source": [
    "## Import data\n",
    "\n",
    "data_path = 'data'\n",
    "df_store = pd.read_csv(os.path.join(data_path, 'store.csv'))\n",
    "df_train = pd.read_csv(os.path.join(data_path, 'train.csv'), low_memory=False)"
   ]
  },
  {
   "cell_type": "code",
   "execution_count": 8,
   "id": "2cdac7cf",
   "metadata": {},
   "outputs": [],
   "source": [
    "# add date columns\n",
    "df_train['Year'] = df_train['Date'].apply(lambda date: get_year(date))\n",
    "df_train['Month'] = df_train['Date'].apply(lambda date: get_month(date))\n",
    "df_train['Day'] = df_train['Date'].apply(lambda date: get_day(date))"
   ]
  },
  {
   "cell_type": "code",
   "execution_count": 9,
   "id": "30658ec0",
   "metadata": {},
   "outputs": [],
   "source": [
    "# get date_concu for each store (the date where a concurrent has been created)\n",
    "df_store['CompetitionOpenSinceYear'] = df_store['CompetitionOpenSinceYear'].fillna('2023')\n",
    "df_store['CompetitionOpenSinceMonth'] = df_store['CompetitionOpenSinceMonth'].fillna('12')\n",
    "df_store['date_concu'] = df_store.apply(lambda row : get_date_opening_concu(row), axis=1)\n",
    "df_store.CompetitionDistance = df_store.CompetitionDistance.fillna(df_store.CompetitionDistance.max())\n",
    "\n",
    "# keep only interesting columns\n",
    "columns = ['Store', 'StoreType', 'Assortment', 'date_concu', 'CompetitionDistance']\n",
    "df_store_reduced = df_store[columns]"
   ]
  },
  {
   "cell_type": "code",
   "execution_count": 10,
   "id": "0362b62e",
   "metadata": {},
   "outputs": [],
   "source": [
    "df_tot = df_train.merge(df_store_reduced, on='Store')\n"
   ]
  },
  {
   "cell_type": "code",
   "execution_count": 11,
   "id": "e74d39a2",
   "metadata": {},
   "outputs": [
    {
     "data": {
      "text/plain": [
       "1017209"
      ]
     },
     "execution_count": 11,
     "metadata": {},
     "output_type": "execute_result"
    }
   ],
   "source": [
    "len(df_tot)"
   ]
  },
  {
   "cell_type": "code",
   "execution_count": 12,
   "id": "ebe9661c",
   "metadata": {},
   "outputs": [],
   "source": [
    "df_tot = df_train.merge(df_store_reduced, on='Store')\n",
    "# we don't want to predict when the store is closed (sales=0), the client must know the closing days\n",
    "df_tot = df_tot[df_tot.Open==1]"
   ]
  },
  {
   "cell_type": "code",
   "execution_count": 13,
   "id": "7a49831f",
   "metadata": {},
   "outputs": [
    {
     "data": {
      "text/plain": [
       "844392"
      ]
     },
     "execution_count": 13,
     "metadata": {},
     "output_type": "execute_result"
    }
   ],
   "source": [
    "len(df_tot)"
   ]
  },
  {
   "cell_type": "markdown",
   "id": "ddfb5212",
   "metadata": {},
   "source": [
    "### Data exploration"
   ]
  },
  {
   "cell_type": "code",
   "execution_count": 16,
   "id": "e3c9499c",
   "metadata": {},
   "outputs": [
    {
     "data": {
      "text/plain": [
       "6955.514290755952"
      ]
     },
     "execution_count": 16,
     "metadata": {},
     "output_type": "execute_result"
    }
   ],
   "source": [
    "df_tot.Sales.mean()"
   ]
  },
  {
   "cell_type": "code",
   "execution_count": 17,
   "id": "e939c2d6",
   "metadata": {},
   "outputs": [
    {
     "data": {
      "text/plain": [
       "'2015-07-31'"
      ]
     },
     "execution_count": 17,
     "metadata": {},
     "output_type": "execute_result"
    }
   ],
   "source": [
    "df_tot.Date.max()"
   ]
  },
  {
   "cell_type": "code",
   "execution_count": 18,
   "id": "94a9f9d1",
   "metadata": {},
   "outputs": [
    {
     "data": {
      "text/plain": [
       "'2013-01-01'"
      ]
     },
     "execution_count": 18,
     "metadata": {},
     "output_type": "execute_result"
    }
   ],
   "source": [
    "df_tot.Date.min()"
   ]
  },
  {
   "cell_type": "markdown",
   "id": "ebc79e4b",
   "metadata": {},
   "source": [
    "#### Seasonality features "
   ]
  },
  {
   "cell_type": "code",
   "execution_count": 19,
   "id": "7096e271",
   "metadata": {},
   "outputs": [
    {
     "data": {
      "image/png": "[encoded data removed]",
      "text/plain": [
       "<Figure size 432x288 with 1 Axes>"
      ]
     },
     "metadata": {},
     "output_type": "display_data"
    },
    {
     "data": {
      "image/png": "[encoded data removed]",
      "text/plain": [
       "<Figure size 432x288 with 1 Axes>"
      ]
     },
     "metadata": {},
     "output_type": "display_data"
    }
   ],
   "source": [
    "tmp = df_tot.groupby('Month')['Sales'].mean().reset_index()\n",
    "sns.barplot(data=tmp, x='Month',y='Sales', color='red')\n",
    "plt.show()\n",
    "\n",
    "tmp = df_tot.groupby('DayOfWeek')['Sales'].mean().reset_index()\n",
    "sns.barplot(data=tmp, x='DayOfWeek',y='Sales', color='red')\n",
    "plt.show()"
   ]
  },
  {
   "cell_type": "markdown",
   "id": "e705da97",
   "metadata": {},
   "source": [
    "#### Features on the store type"
   ]
  },
  {
   "cell_type": "markdown",
   "id": "8a07cffc",
   "metadata": {},
   "source": [
    "Magasins qui génèrenent le plus d'argent VS le moins"
   ]
  },
  {
   "cell_type": "code",
   "execution_count": 20,
   "id": "f27b4ace",
   "metadata": {},
   "outputs": [
    {
     "data": {
      "text/html": [
       "<div>\n",
       "<style scoped>\n",
       "    .dataframe tbody tr th:only-of-type {\n",
       "        vertical-align: middle;\n",
       "    }\n",
       "\n",
       "    .dataframe tbody tr th {\n",
       "        vertical-align: top;\n",
       "    }\n",
       "\n",
       "    .dataframe thead th {\n",
       "        text-align: right;\n",
       "    }\n",
       "</style>\n",
       "<table border=\"1\" class=\"dataframe\">\n",
       "  <thead>\n",
       "    <tr style=\"text-align: right;\">\n",
       "      <th></th>\n",
       "      <th>Store</th>\n",
       "      <th>Sales</th>\n",
       "    </tr>\n",
       "  </thead>\n",
       "  <tbody>\n",
       "    <tr>\n",
       "      <th>306</th>\n",
       "      <td>307</td>\n",
       "      <td>2703.736573</td>\n",
       "    </tr>\n",
       "    <tr>\n",
       "      <th>542</th>\n",
       "      <td>543</td>\n",
       "      <td>2790.380282</td>\n",
       "    </tr>\n",
       "    <tr>\n",
       "      <th>197</th>\n",
       "      <td>198</td>\n",
       "      <td>2900.604859</td>\n",
       "    </tr>\n",
       "  </tbody>\n",
       "</table>\n",
       "</div>"
      ],
      "text/plain": [
       "     Store        Sales\n",
       "306    307  2703.736573\n",
       "542    543  2790.380282\n",
       "197    198  2900.604859"
      ]
     },
     "execution_count": 20,
     "metadata": {},
     "output_type": "execute_result"
    }
   ],
   "source": [
    "df_tot.groupby('Store').Sales.mean().reset_index().sort_values(by='Sales').head(3)"
   ]
  },
  {
   "cell_type": "code",
   "execution_count": 21,
   "id": "4d5d2dad",
   "metadata": {},
   "outputs": [
    {
     "data": {
      "text/html": [
       "<div>\n",
       "<style scoped>\n",
       "    .dataframe tbody tr th:only-of-type {\n",
       "        vertical-align: middle;\n",
       "    }\n",
       "\n",
       "    .dataframe tbody tr th {\n",
       "        vertical-align: top;\n",
       "    }\n",
       "\n",
       "    .dataframe thead th {\n",
       "        text-align: right;\n",
       "    }\n",
       "</style>\n",
       "<table border=\"1\" class=\"dataframe\">\n",
       "  <thead>\n",
       "    <tr style=\"text-align: right;\">\n",
       "      <th></th>\n",
       "      <th>Store</th>\n",
       "      <th>Sales</th>\n",
       "    </tr>\n",
       "  </thead>\n",
       "  <tbody>\n",
       "    <tr>\n",
       "      <th>1113</th>\n",
       "      <td>1114</td>\n",
       "      <td>20666.562500</td>\n",
       "    </tr>\n",
       "    <tr>\n",
       "      <th>261</th>\n",
       "      <td>262</td>\n",
       "      <td>20718.515924</td>\n",
       "    </tr>\n",
       "    <tr>\n",
       "      <th>816</th>\n",
       "      <td>817</td>\n",
       "      <td>21757.483418</td>\n",
       "    </tr>\n",
       "  </tbody>\n",
       "</table>\n",
       "</div>"
      ],
      "text/plain": [
       "      Store         Sales\n",
       "1113   1114  20666.562500\n",
       "261     262  20718.515924\n",
       "816     817  21757.483418"
      ]
     },
     "execution_count": 21,
     "metadata": {},
     "output_type": "execute_result"
    }
   ],
   "source": [
    "df_tot.groupby('Store').Sales.mean().reset_index().sort_values(by='Sales').tail(3)"
   ]
  },
  {
   "cell_type": "code",
   "execution_count": 22,
   "id": "d68297a2",
   "metadata": {},
   "outputs": [
    {
     "data": {
      "image/png": "[encoded data removed]",
      "text/plain": [
       "<Figure size 432x288 with 1 Axes>"
      ]
     },
     "metadata": {},
     "output_type": "display_data"
    },
    {
     "data": {
      "image/png": "[encoded data removed]",
      "text/plain": [
       "<Figure size 432x288 with 1 Axes>"
      ]
     },
     "metadata": {},
     "output_type": "display_data"
    }
   ],
   "source": [
    "tmp = df_tot.groupby(\"StoreType\").Sales.mean().reset_index()\n",
    "sns.barplot(data=tmp, y='Sales', x='StoreType')\n",
    "plt.show()\n",
    "\n",
    "tmp = df_tot.groupby(\"Assortment\").Sales.mean().reset_index()\n",
    "sns.barplot(data=tmp, y='Sales', x='Assortment')\n",
    "plt.show()"
   ]
  },
  {
   "cell_type": "markdown",
   "id": "6f33c9ff",
   "metadata": {},
   "source": [
    "#### Features on promo offer"
   ]
  },
  {
   "cell_type": "code",
   "execution_count": 23,
   "id": "ed058b49",
   "metadata": {},
   "outputs": [
    {
     "data": {
      "image/png": "[encoded data removed]",
      "text/plain": [
       "<Figure size 432x288 with 1 Axes>"
      ]
     },
     "metadata": {},
     "output_type": "display_data"
    },
    {
     "data": {
      "image/png": "[encoded data removed]",
      "text/plain": [
       "<Figure size 432x288 with 1 Axes>"
      ]
     },
     "metadata": {},
     "output_type": "display_data"
    }
   ],
   "source": [
    "tmp = df_tot.groupby('Promo')['Sales'].mean().reset_index()\n",
    "sns.barplot(data=tmp, x='Promo',y='Sales', color='red')\n",
    "plt.show()\n",
    "\n",
    "tmp = df_tot.groupby('StateHoliday')['Sales'].mean().reset_index()\n",
    "sns.barplot(data=tmp, x='StateHoliday',y='Sales', color='red')\n",
    "plt.show()"
   ]
  },
  {
   "cell_type": "markdown",
   "id": "332f5a0d",
   "metadata": {},
   "source": [
    "#### Features about concurrency"
   ]
  },
  {
   "cell_type": "code",
   "execution_count": 24,
   "id": "3d8ac2d4",
   "metadata": {},
   "outputs": [],
   "source": [
    "# difference between the current day and the day where the concurrence has been created, in days\n",
    "df_tot['has_concu_since'] = df_tot.apply(lambda row: get_has_concu_since(row), axis=1)"
   ]
  },
  {
   "cell_type": "code",
   "execution_count": 25,
   "id": "8af97746",
   "metadata": {},
   "outputs": [
    {
     "data": {
      "image/png": "[encoded data removed]",
      "text/plain": [
       "<Figure size 432x288 with 1 Axes>"
      ]
     },
     "metadata": {},
     "output_type": "display_data"
    }
   ],
   "source": [
    "df_tot['concu'] = df_tot.has_concu_since > 0\n",
    "sns.countplot(data=df_tot, x='concu')\n",
    "plt.show()"
   ]
  },
  {
   "cell_type": "code",
   "execution_count": 26,
   "id": "44df0a43",
   "metadata": {},
   "outputs": [],
   "source": [
    "no_concu = df_tot[df_tot.concu==False].groupby('Store').agg({'Sales':'mean', 'CompetitionDistance':'mean'}).reset_index()\n",
    "no_concu = no_concu.rename(columns={\"Sales\":'Sales_no_concu'})\n",
    "\n",
    "concu = df_tot[df_tot.concu==True].groupby('Store').Sales.mean().reset_index()\n",
    "concu = concu.rename(columns={\"Sales\":'Sales_concu'})"
   ]
  },
  {
   "cell_type": "code",
   "execution_count": 27,
   "id": "094dd80f",
   "metadata": {},
   "outputs": [
    {
     "data": {
      "text/html": [
       "<div>\n",
       "<style scoped>\n",
       "    .dataframe tbody tr th:only-of-type {\n",
       "        vertical-align: middle;\n",
       "    }\n",
       "\n",
       "    .dataframe tbody tr th {\n",
       "        vertical-align: top;\n",
       "    }\n",
       "\n",
       "    .dataframe thead th {\n",
       "        text-align: right;\n",
       "    }\n",
       "</style>\n",
       "<table border=\"1\" class=\"dataframe\">\n",
       "  <thead>\n",
       "    <tr style=\"text-align: right;\">\n",
       "      <th></th>\n",
       "      <th>Store</th>\n",
       "      <th>Sales_no_concu</th>\n",
       "      <th>CompetitionDistance</th>\n",
       "      <th>Sales_concu</th>\n",
       "      <th>delta</th>\n",
       "      <th>percent_lose_since_concu</th>\n",
       "    </tr>\n",
       "  </thead>\n",
       "  <tbody>\n",
       "    <tr>\n",
       "      <th>93</th>\n",
       "      <td>523</td>\n",
       "      <td>18330.909804</td>\n",
       "      <td>50.0</td>\n",
       "      <td>14180.742911</td>\n",
       "      <td>-4150.166893</td>\n",
       "      <td>-0.226403</td>\n",
       "    </tr>\n",
       "    <tr>\n",
       "      <th>146</th>\n",
       "      <td>882</td>\n",
       "      <td>9302.906667</td>\n",
       "      <td>30.0</td>\n",
       "      <td>6316.046110</td>\n",
       "      <td>-2986.860557</td>\n",
       "      <td>-0.321067</td>\n",
       "    </tr>\n",
       "    <tr>\n",
       "      <th>164</th>\n",
       "      <td>983</td>\n",
       "      <td>11895.879310</td>\n",
       "      <td>40.0</td>\n",
       "      <td>8923.265258</td>\n",
       "      <td>-2972.614052</td>\n",
       "      <td>-0.249886</td>\n",
       "    </tr>\n",
       "    <tr>\n",
       "      <th>151</th>\n",
       "      <td>905</td>\n",
       "      <td>9790.864169</td>\n",
       "      <td>90.0</td>\n",
       "      <td>7001.042614</td>\n",
       "      <td>-2789.821555</td>\n",
       "      <td>-0.284941</td>\n",
       "    </tr>\n",
       "    <tr>\n",
       "      <th>184</th>\n",
       "      <td>1086</td>\n",
       "      <td>9451.220472</td>\n",
       "      <td>180.0</td>\n",
       "      <td>6822.480076</td>\n",
       "      <td>-2628.740397</td>\n",
       "      <td>-0.278138</td>\n",
       "    </tr>\n",
       "    <tr>\n",
       "      <th>...</th>\n",
       "      <td>...</td>\n",
       "      <td>...</td>\n",
       "      <td>...</td>\n",
       "      <td>...</td>\n",
       "      <td>...</td>\n",
       "      <td>...</td>\n",
       "    </tr>\n",
       "    <tr>\n",
       "      <th>2</th>\n",
       "      <td>7</td>\n",
       "      <td>7732.586667</td>\n",
       "      <td>24000.0</td>\n",
       "      <td>8931.445851</td>\n",
       "      <td>1198.859184</td>\n",
       "      <td>0.155040</td>\n",
       "    </tr>\n",
       "    <tr>\n",
       "      <th>3</th>\n",
       "      <td>8</td>\n",
       "      <td>5153.771107</td>\n",
       "      <td>7520.0</td>\n",
       "      <td>6358.155378</td>\n",
       "      <td>1204.384272</td>\n",
       "      <td>0.233690</td>\n",
       "    </tr>\n",
       "    <tr>\n",
       "      <th>111</th>\n",
       "      <td>608</td>\n",
       "      <td>8127.851852</td>\n",
       "      <td>18370.0</td>\n",
       "      <td>9369.968127</td>\n",
       "      <td>1242.116276</td>\n",
       "      <td>0.152822</td>\n",
       "    </tr>\n",
       "    <tr>\n",
       "      <th>24</th>\n",
       "      <td>122</td>\n",
       "      <td>5262.975000</td>\n",
       "      <td>58260.0</td>\n",
       "      <td>6581.173913</td>\n",
       "      <td>1318.198913</td>\n",
       "      <td>0.250466</td>\n",
       "    </tr>\n",
       "    <tr>\n",
       "      <th>103</th>\n",
       "      <td>578</td>\n",
       "      <td>6669.494382</td>\n",
       "      <td>12700.0</td>\n",
       "      <td>8328.241379</td>\n",
       "      <td>1658.746997</td>\n",
       "      <td>0.248707</td>\n",
       "    </tr>\n",
       "  </tbody>\n",
       "</table>\n",
       "<p>188 rows × 6 columns</p>\n",
       "</div>"
      ],
      "text/plain": [
       "     Store  Sales_no_concu  CompetitionDistance   Sales_concu        delta  \\\n",
       "93     523    18330.909804                 50.0  14180.742911 -4150.166893   \n",
       "146    882     9302.906667                 30.0   6316.046110 -2986.860557   \n",
       "164    983    11895.879310                 40.0   8923.265258 -2972.614052   \n",
       "151    905     9790.864169                 90.0   7001.042614 -2789.821555   \n",
       "184   1086     9451.220472                180.0   6822.480076 -2628.740397   \n",
       "..     ...             ...                  ...           ...          ...   \n",
       "2        7     7732.586667              24000.0   8931.445851  1198.859184   \n",
       "3        8     5153.771107               7520.0   6358.155378  1204.384272   \n",
       "111    608     8127.851852              18370.0   9369.968127  1242.116276   \n",
       "24     122     5262.975000              58260.0   6581.173913  1318.198913   \n",
       "103    578     6669.494382              12700.0   8328.241379  1658.746997   \n",
       "\n",
       "     percent_lose_since_concu  \n",
       "93                  -0.226403  \n",
       "146                 -0.321067  \n",
       "164                 -0.249886  \n",
       "151                 -0.284941  \n",
       "184                 -0.278138  \n",
       "..                        ...  \n",
       "2                    0.155040  \n",
       "3                    0.233690  \n",
       "111                  0.152822  \n",
       "24                   0.250466  \n",
       "103                  0.248707  \n",
       "\n",
       "[188 rows x 6 columns]"
      ]
     },
     "execution_count": 27,
     "metadata": {},
     "output_type": "execute_result"
    }
   ],
   "source": [
    "tmp = no_concu.merge(concu)\n",
    "tmp['delta'] = -(tmp['Sales_no_concu'] - tmp['Sales_concu'])\n",
    "tmp['percent_lose_since_concu'] = tmp['delta'] / tmp['Sales_no_concu']\n",
    "tmp.sort_values('delta')"
   ]
  },
  {
   "cell_type": "code",
   "execution_count": 28,
   "id": "ecd255a4",
   "metadata": {},
   "outputs": [
    {
     "data": {
      "text/plain": [
       "-0.022414730457580825"
      ]
     },
     "execution_count": 28,
     "metadata": {},
     "output_type": "execute_result"
    }
   ],
   "source": [
    "tmp.percent_lose_since_concu.mean()"
   ]
  },
  {
   "cell_type": "code",
   "execution_count": 29,
   "id": "f22fcf8a",
   "metadata": {},
   "outputs": [
    {
     "data": {
      "image/png": "[encoded data removed]",
      "text/plain": [
       "<Figure size 360x216 with 1 Axes>"
      ]
     },
     "metadata": {},
     "output_type": "display_data"
    }
   ],
   "source": [
    "tmp = df_tot[df_tot.CompetitionDistance>0].groupby('Store')['CompetitionDistance'].mean().reset_index()\n",
    "plt.figure(figsize=(5,3))\n",
    "sns.histplot(data=tmp, x='CompetitionDistance')\n",
    "plt.xlim(0, 30000)\n",
    "plt.show()"
   ]
  },
  {
   "cell_type": "code",
   "execution_count": null,
   "id": "54295c9a",
   "metadata": {},
   "outputs": [],
   "source": []
  },
  {
   "cell_type": "code",
   "execution_count": null,
   "id": "707f724f",
   "metadata": {},
   "outputs": [],
   "source": []
  },
  {
   "cell_type": "markdown",
   "id": "ab92790a",
   "metadata": {},
   "source": [
    "### Create features"
   ]
  },
  {
   "cell_type": "code",
   "execution_count": 30,
   "id": "48b74c80",
   "metadata": {},
   "outputs": [],
   "source": [
    "df_tot = df_tot.sort_values(by='Date')"
   ]
  },
  {
   "cell_type": "code",
   "execution_count": 31,
   "id": "e6578ee3",
   "metadata": {},
   "outputs": [
    {
     "data": {
      "text/plain": [
       "Index(['Store', 'DayOfWeek', 'Date', 'Sales', 'Customers', 'Open', 'Promo',\n",
       "       'StateHoliday', 'SchoolHoliday', 'Year', 'Month', 'Day', 'StoreType',\n",
       "       'Assortment', 'date_concu', 'CompetitionDistance', 'has_concu_since',\n",
       "       'concu'],\n",
       "      dtype='object')"
      ]
     },
     "execution_count": 31,
     "metadata": {},
     "output_type": "execute_result"
    }
   ],
   "source": [
    "df_tot.columns"
   ]
  },
  {
   "cell_type": "code",
   "execution_count": 76,
   "id": "faba8d8c",
   "metadata": {},
   "outputs": [],
   "source": [
    "# Columns to keep\n",
    "columns = ['Store', 'Month', 'Day', 'DayOfWeek', 'Promo', 'StoreType', 'Assortment', 'CompetitionDistance', 'has_concu_since',\n",
    "          'SchoolHoliday', 'StateHoliday']\n",
    "df_tot = df_tot[df_tot['Sales'] > 0]\n",
    "\n",
    "X = df_tot[columns]\n",
    "X = pd.get_dummies(X)\n",
    "\n",
    "features_names = X.columns\n",
    "\n",
    "Y = df_tot['Sales']\n",
    "\n",
    "# We delete the lines where Sales = 0 (exception, and they will impact our MAPE metric)\n",
    "#X = X[Y>0]\n",
    "#Y = Y[Y>0]"
   ]
  },
  {
   "cell_type": "code",
   "execution_count": 77,
   "id": "c7b0ccbe",
   "metadata": {},
   "outputs": [
    {
     "data": {
      "text/html": [
       "<div>\n",
       "<style scoped>\n",
       "    .dataframe tbody tr th:only-of-type {\n",
       "        vertical-align: middle;\n",
       "    }\n",
       "\n",
       "    .dataframe tbody tr th {\n",
       "        vertical-align: top;\n",
       "    }\n",
       "\n",
       "    .dataframe thead th {\n",
       "        text-align: right;\n",
       "    }\n",
       "</style>\n",
       "<table border=\"1\" class=\"dataframe\">\n",
       "  <thead>\n",
       "    <tr style=\"text-align: right;\">\n",
       "      <th></th>\n",
       "      <th>Store</th>\n",
       "      <th>Month</th>\n",
       "      <th>Day</th>\n",
       "      <th>DayOfWeek</th>\n",
       "      <th>Promo</th>\n",
       "      <th>StoreType</th>\n",
       "      <th>Assortment</th>\n",
       "      <th>CompetitionDistance</th>\n",
       "      <th>has_concu_since</th>\n",
       "      <th>SchoolHoliday</th>\n",
       "      <th>StateHoliday</th>\n",
       "      <th>Sales</th>\n",
       "    </tr>\n",
       "  </thead>\n",
       "  <tbody>\n",
       "    <tr>\n",
       "      <th>37658</th>\n",
       "      <td>42</td>\n",
       "      <td>3</td>\n",
       "      <td>13</td>\n",
       "      <td>5</td>\n",
       "      <td>0</td>\n",
       "      <td>a</td>\n",
       "      <td>c</td>\n",
       "      <td>290.0</td>\n",
       "      <td>0</td>\n",
       "      <td>0</td>\n",
       "      <td>0</td>\n",
       "      <td>9501</td>\n",
       "    </tr>\n",
       "    <tr>\n",
       "      <th>446933</th>\n",
       "      <td>490</td>\n",
       "      <td>4</td>\n",
       "      <td>24</td>\n",
       "      <td>4</td>\n",
       "      <td>0</td>\n",
       "      <td>a</td>\n",
       "      <td>a</td>\n",
       "      <td>660.0</td>\n",
       "      <td>388</td>\n",
       "      <td>1</td>\n",
       "      <td>0</td>\n",
       "      <td>6172</td>\n",
       "    </tr>\n",
       "    <tr>\n",
       "      <th>730259</th>\n",
       "      <td>802</td>\n",
       "      <td>1</td>\n",
       "      <td>23</td>\n",
       "      <td>5</td>\n",
       "      <td>0</td>\n",
       "      <td>a</td>\n",
       "      <td>c</td>\n",
       "      <td>910.0</td>\n",
       "      <td>0</td>\n",
       "      <td>0</td>\n",
       "      <td>0</td>\n",
       "      <td>5556</td>\n",
       "    </tr>\n",
       "    <tr>\n",
       "      <th>757100</th>\n",
       "      <td>831</td>\n",
       "      <td>5</td>\n",
       "      <td>6</td>\n",
       "      <td>1</td>\n",
       "      <td>0</td>\n",
       "      <td>a</td>\n",
       "      <td>a</td>\n",
       "      <td>800.0</td>\n",
       "      <td>2166</td>\n",
       "      <td>0</td>\n",
       "      <td>0</td>\n",
       "      <td>11026</td>\n",
       "    </tr>\n",
       "  </tbody>\n",
       "</table>\n",
       "</div>"
      ],
      "text/plain": [
       "        Store  Month  Day  DayOfWeek  Promo StoreType Assortment  \\\n",
       "37658      42      3   13          5      0         a          c   \n",
       "446933    490      4   24          4      0         a          a   \n",
       "730259    802      1   23          5      0         a          c   \n",
       "757100    831      5    6          1      0         a          a   \n",
       "\n",
       "        CompetitionDistance  has_concu_since  SchoolHoliday StateHoliday  \\\n",
       "37658                 290.0                0              0            0   \n",
       "446933                660.0              388              1            0   \n",
       "730259                910.0                0              0            0   \n",
       "757100                800.0             2166              0            0   \n",
       "\n",
       "        Sales  \n",
       "37658    9501  \n",
       "446933   6172  \n",
       "730259   5556  \n",
       "757100  11026  "
      ]
     },
     "execution_count": 77,
     "metadata": {},
     "output_type": "execute_result"
    }
   ],
   "source": [
    "df_tot[columns+['Sales']].sample(4)"
   ]
  },
  {
   "cell_type": "code",
   "execution_count": 80,
   "id": "f4ec2c59",
   "metadata": {},
   "outputs": [],
   "source": [
    "# Save our new dataset\n",
    "X.to_csv('X.csv', sep=';')\n",
    "Y.to_csv('Y.csv', sep=';')"
   ]
  },
  {
   "cell_type": "code",
   "execution_count": 81,
   "id": "63238b6c",
   "metadata": {},
   "outputs": [
    {
     "data": {
      "text/html": [
       "<div>\n",
       "<style scoped>\n",
       "    .dataframe tbody tr th:only-of-type {\n",
       "        vertical-align: middle;\n",
       "    }\n",
       "\n",
       "    .dataframe tbody tr th {\n",
       "        vertical-align: top;\n",
       "    }\n",
       "\n",
       "    .dataframe thead th {\n",
       "        text-align: right;\n",
       "    }\n",
       "</style>\n",
       "<table border=\"1\" class=\"dataframe\">\n",
       "  <thead>\n",
       "    <tr style=\"text-align: right;\">\n",
       "      <th></th>\n",
       "      <th>Store</th>\n",
       "      <th>Month</th>\n",
       "      <th>Day</th>\n",
       "      <th>DayOfWeek</th>\n",
       "      <th>Promo</th>\n",
       "      <th>CompetitionDistance</th>\n",
       "      <th>has_concu_since</th>\n",
       "      <th>SchoolHoliday</th>\n",
       "      <th>StoreType_a</th>\n",
       "      <th>StoreType_b</th>\n",
       "      <th>StoreType_c</th>\n",
       "      <th>StoreType_d</th>\n",
       "      <th>Assortment_a</th>\n",
       "      <th>Assortment_b</th>\n",
       "      <th>Assortment_c</th>\n",
       "      <th>StateHoliday_0</th>\n",
       "      <th>StateHoliday_a</th>\n",
       "      <th>StateHoliday_b</th>\n",
       "      <th>StateHoliday_c</th>\n",
       "    </tr>\n",
       "  </thead>\n",
       "  <tbody>\n",
       "    <tr>\n",
       "      <th>615999</th>\n",
       "      <td>676</td>\n",
       "      <td>1</td>\n",
       "      <td>1</td>\n",
       "      <td>2</td>\n",
       "      <td>0</td>\n",
       "      <td>1410.0</td>\n",
       "      <td>1583</td>\n",
       "      <td>1</td>\n",
       "      <td>0</td>\n",
       "      <td>1</td>\n",
       "      <td>0</td>\n",
       "      <td>0</td>\n",
       "      <td>0</td>\n",
       "      <td>1</td>\n",
       "      <td>0</td>\n",
       "      <td>0</td>\n",
       "      <td>1</td>\n",
       "      <td>0</td>\n",
       "      <td>0</td>\n",
       "    </tr>\n",
       "    <tr>\n",
       "      <th>667669</th>\n",
       "      <td>733</td>\n",
       "      <td>1</td>\n",
       "      <td>1</td>\n",
       "      <td>2</td>\n",
       "      <td>0</td>\n",
       "      <td>860.0</td>\n",
       "      <td>4841</td>\n",
       "      <td>1</td>\n",
       "      <td>0</td>\n",
       "      <td>1</td>\n",
       "      <td>0</td>\n",
       "      <td>0</td>\n",
       "      <td>0</td>\n",
       "      <td>1</td>\n",
       "      <td>0</td>\n",
       "      <td>0</td>\n",
       "      <td>1</td>\n",
       "      <td>0</td>\n",
       "      <td>0</td>\n",
       "    </tr>\n",
       "    <tr>\n",
       "      <th>512659</th>\n",
       "      <td>562</td>\n",
       "      <td>1</td>\n",
       "      <td>1</td>\n",
       "      <td>2</td>\n",
       "      <td>0</td>\n",
       "      <td>1210.0</td>\n",
       "      <td>0</td>\n",
       "      <td>1</td>\n",
       "      <td>0</td>\n",
       "      <td>1</td>\n",
       "      <td>0</td>\n",
       "      <td>0</td>\n",
       "      <td>0</td>\n",
       "      <td>0</td>\n",
       "      <td>1</td>\n",
       "      <td>0</td>\n",
       "      <td>1</td>\n",
       "      <td>0</td>\n",
       "      <td>0</td>\n",
       "    </tr>\n",
       "    <tr>\n",
       "      <th>450995</th>\n",
       "      <td>494</td>\n",
       "      <td>1</td>\n",
       "      <td>1</td>\n",
       "      <td>2</td>\n",
       "      <td>0</td>\n",
       "      <td>1260.0</td>\n",
       "      <td>580</td>\n",
       "      <td>1</td>\n",
       "      <td>0</td>\n",
       "      <td>1</td>\n",
       "      <td>0</td>\n",
       "      <td>0</td>\n",
       "      <td>1</td>\n",
       "      <td>0</td>\n",
       "      <td>0</td>\n",
       "      <td>0</td>\n",
       "      <td>1</td>\n",
       "      <td>0</td>\n",
       "      <td>0</td>\n",
       "    </tr>\n",
       "    <tr>\n",
       "      <th>238339</th>\n",
       "      <td>262</td>\n",
       "      <td>1</td>\n",
       "      <td>1</td>\n",
       "      <td>2</td>\n",
       "      <td>0</td>\n",
       "      <td>1180.0</td>\n",
       "      <td>0</td>\n",
       "      <td>1</td>\n",
       "      <td>0</td>\n",
       "      <td>1</td>\n",
       "      <td>0</td>\n",
       "      <td>0</td>\n",
       "      <td>1</td>\n",
       "      <td>0</td>\n",
       "      <td>0</td>\n",
       "      <td>0</td>\n",
       "      <td>1</td>\n",
       "      <td>0</td>\n",
       "      <td>0</td>\n",
       "    </tr>\n",
       "  </tbody>\n",
       "</table>\n",
       "</div>"
      ],
      "text/plain": [
       "        Store  Month  Day  DayOfWeek  Promo  CompetitionDistance  \\\n",
       "615999    676      1    1          2      0               1410.0   \n",
       "667669    733      1    1          2      0                860.0   \n",
       "512659    562      1    1          2      0               1210.0   \n",
       "450995    494      1    1          2      0               1260.0   \n",
       "238339    262      1    1          2      0               1180.0   \n",
       "\n",
       "        has_concu_since  SchoolHoliday  StoreType_a  StoreType_b  StoreType_c  \\\n",
       "615999             1583              1            0            1            0   \n",
       "667669             4841              1            0            1            0   \n",
       "512659                0              1            0            1            0   \n",
       "450995              580              1            0            1            0   \n",
       "238339                0              1            0            1            0   \n",
       "\n",
       "        StoreType_d  Assortment_a  Assortment_b  Assortment_c  StateHoliday_0  \\\n",
       "615999            0             0             1             0               0   \n",
       "667669            0             0             1             0               0   \n",
       "512659            0             0             0             1               0   \n",
       "450995            0             1             0             0               0   \n",
       "238339            0             1             0             0               0   \n",
       "\n",
       "        StateHoliday_a  StateHoliday_b  StateHoliday_c  \n",
       "615999               1               0               0  \n",
       "667669               1               0               0  \n",
       "512659               1               0               0  \n",
       "450995               1               0               0  \n",
       "238339               1               0               0  "
      ]
     },
     "execution_count": 81,
     "metadata": {},
     "output_type": "execute_result"
    }
   ],
   "source": [
    "X.head()"
   ]
  },
  {
   "cell_type": "markdown",
   "id": "7638c907",
   "metadata": {},
   "source": [
    "### Create train and test set"
   ]
  },
  {
   "cell_type": "code",
   "execution_count": 112,
   "id": "4e3ca4f7",
   "metadata": {},
   "outputs": [],
   "source": [
    "# Pour respecter le côté temporel\n",
    "N= 5\n",
    "n = len(X) // 5\n",
    "X_train = X[:(N-1)*n]\n",
    "X_test = X[(N-1)*n:]\n",
    "\n",
    "Y_train = Y[:(N-1)*n]\n",
    "Y_test = Y[(N-1)*n:]"
   ]
  },
  {
   "cell_type": "code",
   "execution_count": 113,
   "id": "156f3e4c",
   "metadata": {},
   "outputs": [],
   "source": [
    "# Si on s'en fout du coté temporel\n",
    "#X_train, X_test, Y_train, Y_test = train_test_split(X, Y, test_size=0.33, random_state=42)"
   ]
  },
  {
   "cell_type": "markdown",
   "id": "84fdb3a6",
   "metadata": {},
   "source": [
    "Souvent, quand on travaille avec des données temporelles, on prend dans le train les dates les plus anciennes, et dans le test les plus récentes, mais là ça a pas forcément d'intéret."
   ]
  },
  {
   "cell_type": "code",
   "execution_count": 114,
   "id": "8e6fa820",
   "metadata": {},
   "outputs": [
    {
     "name": "stdout",
     "output_type": "stream",
     "text": [
      "MAE : 1967.92\n",
      "MAPE : 30.39%\n",
      "MSE : 7585041\n"
     ]
    }
   ],
   "source": [
    "from sklearn.linear_model import Ridge\n",
    "\n",
    "ridge = Ridge()\n",
    "ridge.fit(X_train, Y_train)\n",
    "Y_pred = ridge.predict(X_test)\n",
    "print_score(Y_test, Y_pred)"
   ]
  },
  {
   "cell_type": "code",
   "execution_count": 115,
   "id": "575696a5",
   "metadata": {},
   "outputs": [
    {
     "name": "stdout",
     "output_type": "stream",
     "text": [
      "MAE : 1071.60\n",
      "MAPE : 15.33%\n",
      "MSE : 2765136\n"
     ]
    }
   ],
   "source": [
    "from sklearn.ensemble import RandomForestRegressor\n",
    "from sklearn.tree import DecisionTreeRegressor\n",
    "from sklearn import tree\n",
    "\n",
    "rf = DecisionTreeRegressor()\n",
    "rf.fit(X_train, Y_train)\n",
    "Y_pred = rf.predict(X_test)\n",
    "print_score(Y_test, Y_pred)"
   ]
  },
  {
   "cell_type": "code",
   "execution_count": 116,
   "id": "f019748c",
   "metadata": {},
   "outputs": [
    {
     "data": {
      "image/png": "[encoded data removed]",
      "text/plain": [
       "<Figure size 1800x1440 with 1 Axes>"
      ]
     },
     "metadata": {},
     "output_type": "display_data"
    }
   ],
   "source": [
    "fig = plt.figure(figsize=(25,20))\n",
    "_ = tree.plot_tree(rf, feature_names=features_names, filled=True, max_depth=2)"
   ]
  },
  {
   "cell_type": "code",
   "execution_count": 117,
   "id": "a88431c1",
   "metadata": {},
   "outputs": [
    {
     "name": "stdout",
     "output_type": "stream",
     "text": [
      "MAE : 847.80\n",
      "MAPE : 12.09%\n",
      "MSE : 1560695\n"
     ]
    }
   ],
   "source": [
    "rf = RandomForestRegressor(n_estimators=10, max_depth=30)\n",
    "rf.fit(X_train, Y_train)\n",
    "Y_pred = rf.predict(X_test)\n",
    "print_score(Y_test, Y_pred)"
   ]
  },
  {
   "cell_type": "code",
   "execution_count": 118,
   "id": "ed7aebdf",
   "metadata": {},
   "outputs": [
    {
     "data": {
      "text/plain": [
       "<AxesSubplot:>"
      ]
     },
     "execution_count": 118,
     "metadata": {},
     "output_type": "execute_result"
    },
    {
     "data": {
      "image/png": "[encoded data removed]",
      "text/plain": [
       "<Figure size 432x288 with 1 Axes>"
      ]
     },
     "metadata": {},
     "output_type": "display_data"
    }
   ],
   "source": [
    "sns.barplot(x=rf.feature_importances_, y=features_names)"
   ]
  },
  {
   "cell_type": "markdown",
   "id": "29f88b66",
   "metadata": {},
   "source": [
    "Perf"
   ]
  },
  {
   "cell_type": "code",
   "execution_count": 98,
   "id": "4a301f99",
   "metadata": {},
   "outputs": [
    {
     "data": {
      "text/plain": [
       "6955.959133664481"
      ]
     },
     "execution_count": 98,
     "metadata": {},
     "output_type": "execute_result"
    }
   ],
   "source": [
    "Y.mean()"
   ]
  },
  {
   "cell_type": "code",
   "execution_count": 119,
   "id": "a74c7329",
   "metadata": {},
   "outputs": [
    {
     "data": {
      "text/plain": [
       "0.12086762053875946"
      ]
     },
     "execution_count": 119,
     "metadata": {},
     "output_type": "execute_result"
    }
   ],
   "source": [
    "df_tot['pred'] = rf.predict(X)\n",
    "\n",
    "df_train= df_tot[:(N-1)*n].copy()\n",
    "df_test = df_tot[(N-1)*n:].copy()\n",
    "df_test['mae'] = np.abs(df_test['pred'] - df_test['Sales'])\n",
    "df_test['mape'] = np.abs(df_test['pred'] - df_test['Sales']) / df_test['Sales']\n",
    "df_test.mape.mean()"
   ]
  },
  {
   "cell_type": "code",
   "execution_count": 120,
   "id": "16726a2a",
   "metadata": {},
   "outputs": [
    {
     "data": {
      "text/plain": [
       "0.06617110000902961"
      ]
     },
     "execution_count": 120,
     "metadata": {},
     "output_type": "execute_result"
    }
   ],
   "source": [
    "tmp = df_test.groupby('Date').agg({'pred':'sum', 'Sales':'sum'}).reset_index()\n",
    "tmp['mae'] = np.abs(tmp['pred'] - tmp['Sales'])\n",
    "tmp['mape'] = np.abs(tmp['pred'] - tmp['Sales']) / tmp['Sales']\n",
    "tmp.mape.mean()"
   ]
  },
  {
   "cell_type": "markdown",
   "id": "f1828f0a",
   "metadata": {},
   "source": [
    "Scores of the 'Average Model'"
   ]
  },
  {
   "cell_type": "code",
   "execution_count": 121,
   "id": "a45da00d",
   "metadata": {},
   "outputs": [
    {
     "data": {
      "text/plain": [
       "0.22052035274089493"
      ]
     },
     "execution_count": 121,
     "metadata": {},
     "output_type": "execute_result"
    }
   ],
   "source": [
    "moy_per_mag = df_train.groupby('Store').Sales.mean().reset_index()\n",
    "moy_per_mag = moy_per_mag.rename(columns = {'Sales':'pred_avg'})\n",
    "df_test = df_test.merge(moy_per_mag, on='Store')\n",
    "\n",
    "df_test['mae_avg'] = np.abs(df_test['pred_avg'] - df_test['Sales'])\n",
    "df_test['mape_avg'] = np.abs(df_test['pred_avg'] - df_test['Sales']) / df_test['Sales']\n",
    "df_test.mape_avg.mean()"
   ]
  },
  {
   "cell_type": "code",
   "execution_count": 122,
   "id": "910cef64",
   "metadata": {},
   "outputs": [
    {
     "data": {
      "text/plain": [
       "1435.3336214955687"
      ]
     },
     "execution_count": 122,
     "metadata": {},
     "output_type": "execute_result"
    }
   ],
   "source": [
    "df_test.mae_avg.mean()"
   ]
  },
  {
   "cell_type": "code",
   "execution_count": 105,
   "id": "ffc4f9f5",
   "metadata": {},
   "outputs": [
    {
     "data": {
      "text/plain": [
       "0.15404172706683592"
      ]
     },
     "execution_count": 105,
     "metadata": {},
     "output_type": "execute_result"
    }
   ],
   "source": [
    "tmp = df_test.groupby('Date').agg({'pred_avg':'sum', 'Sales':'sum'}).reset_index()\n",
    "tmp['mae'] = np.abs(tmp['pred_avg'] - tmp['Sales'])\n",
    "tmp['mape'] = np.abs(tmp['pred_avg'] - tmp['Sales']) / tmp['Sales']\n",
    "tmp.mape.mean()"
   ]
  },
  {
   "cell_type": "code",
   "execution_count": null,
   "id": "2b90192f",
   "metadata": {},
   "outputs": [],
   "source": []
  },
  {
   "cell_type": "code",
   "execution_count": null,
   "id": "a45542b5",
   "metadata": {},
   "outputs": [],
   "source": []
  },
  {
   "cell_type": "code",
   "execution_count": null,
   "id": "14185488",
   "metadata": {},
   "outputs": [],
   "source": []
  },
  {
   "cell_type": "code",
   "execution_count": null,
   "id": "7dcff0ea",
   "metadata": {},
   "outputs": [],
   "source": []
  },
  {
   "cell_type": "code",
   "execution_count": null,
   "id": "3b7334a4",
   "metadata": {},
   "outputs": [],
   "source": []
  },
  {
   "cell_type": "code",
   "execution_count": null,
   "id": "2889691d",
   "metadata": {},
   "outputs": [],
   "source": []
  },
  {
   "cell_type": "code",
   "execution_count": null,
   "id": "ece550d8",
   "metadata": {},
   "outputs": [],
   "source": []
  },
  {
   "cell_type": "code",
   "execution_count": null,
   "id": "52d6288d",
   "metadata": {},
   "outputs": [],
   "source": []
  },
  {
   "cell_type": "code",
   "execution_count": null,
   "id": "e94db858",
   "metadata": {},
   "outputs": [],
   "source": []
  },
  {
   "cell_type": "code",
   "execution_count": null,
   "id": "0db16995",
   "metadata": {},
   "outputs": [],
   "source": []
  },
  {
   "cell_type": "code",
   "execution_count": null,
   "id": "4edfe31a",
   "metadata": {},
   "outputs": [],
   "source": []
  },
  {
   "cell_type": "code",
   "execution_count": null,
   "id": "8771b3fa",
   "metadata": {},
   "outputs": [],
   "source": []
  },
  {
   "cell_type": "code",
   "execution_count": null,
   "id": "8a1245c2",
   "metadata": {},
   "outputs": [],
   "source": []
  },
  {
   "cell_type": "code",
   "execution_count": null,
   "id": "3734f212",
   "metadata": {},
   "outputs": [],
   "source": []
  },
  {
   "cell_type": "code",
   "execution_count": null,
   "id": "a7814341",
   "metadata": {},
   "outputs": [],
   "source": []
  },
  {
   "cell_type": "code",
   "execution_count": null,
   "id": "a75320d2",
   "metadata": {},
   "outputs": [],
   "source": []
  },
  {
   "cell_type": "code",
   "execution_count": 132,
   "id": "1e5b9a59",
   "metadata": {},
   "outputs": [],
   "source": [
    "from datetime import timedelta"
   ]
  },
  {
   "cell_type": "code",
   "execution_count": 133,
   "id": "aba5f2c7",
   "metadata": {},
   "outputs": [
    {
     "data": {
      "text/plain": [
       "Timestamp('2015-06-19 00:00:00')"
      ]
     },
     "execution_count": 133,
     "metadata": {},
     "output_type": "execute_result"
    }
   ],
   "source": [
    "pd.to_datetime(df_tot.Date.max()) - timedelta(days=6*7)"
   ]
  },
  {
   "cell_type": "code",
   "execution_count": 134,
   "id": "885dfcea",
   "metadata": {},
   "outputs": [
    {
     "data": {
      "text/html": [
       "<div>\n",
       "<style scoped>\n",
       "    .dataframe tbody tr th:only-of-type {\n",
       "        vertical-align: middle;\n",
       "    }\n",
       "\n",
       "    .dataframe tbody tr th {\n",
       "        vertical-align: top;\n",
       "    }\n",
       "\n",
       "    .dataframe thead th {\n",
       "        text-align: right;\n",
       "    }\n",
       "</style>\n",
       "<table border=\"1\" class=\"dataframe\">\n",
       "  <thead>\n",
       "    <tr style=\"text-align: right;\">\n",
       "      <th></th>\n",
       "      <th>Store</th>\n",
       "      <th>DayOfWeek</th>\n",
       "      <th>Date</th>\n",
       "      <th>Sales</th>\n",
       "      <th>Customers</th>\n",
       "      <th>Open</th>\n",
       "      <th>Promo</th>\n",
       "      <th>StateHoliday</th>\n",
       "      <th>SchoolHoliday</th>\n",
       "      <th>Year</th>\n",
       "      <th>Month</th>\n",
       "      <th>Day</th>\n",
       "      <th>StoreType</th>\n",
       "      <th>Assortment</th>\n",
       "      <th>date_concu</th>\n",
       "      <th>CompetitionDistance</th>\n",
       "      <th>has_concu_since</th>\n",
       "      <th>pred</th>\n",
       "    </tr>\n",
       "  </thead>\n",
       "  <tbody>\n",
       "    <tr>\n",
       "      <th>212343</th>\n",
       "      <td>235</td>\n",
       "      <td>1</td>\n",
       "      <td>2015-07-20</td>\n",
       "      <td>5509</td>\n",
       "      <td>499</td>\n",
       "      <td>1</td>\n",
       "      <td>0</td>\n",
       "      <td>0</td>\n",
       "      <td>0</td>\n",
       "      <td>2015</td>\n",
       "      <td>7</td>\n",
       "      <td>20</td>\n",
       "      <td>a</td>\n",
       "      <td>a</td>\n",
       "      <td>2012-03-01</td>\n",
       "      <td>5710.0</td>\n",
       "      <td>1236</td>\n",
       "      <td>4611.749647</td>\n",
       "    </tr>\n",
       "    <tr>\n",
       "      <th>873375</th>\n",
       "      <td>959</td>\n",
       "      <td>1</td>\n",
       "      <td>2015-07-20</td>\n",
       "      <td>7372</td>\n",
       "      <td>824</td>\n",
       "      <td>1</td>\n",
       "      <td>0</td>\n",
       "      <td>0</td>\n",
       "      <td>1</td>\n",
       "      <td>2015</td>\n",
       "      <td>7</td>\n",
       "      <td>20</td>\n",
       "      <td>a</td>\n",
       "      <td>c</td>\n",
       "      <td>2005-12-01</td>\n",
       "      <td>1060.0</td>\n",
       "      <td>3518</td>\n",
       "      <td>6088.888060</td>\n",
       "    </tr>\n",
       "    <tr>\n",
       "      <th>501551</th>\n",
       "      <td>551</td>\n",
       "      <td>1</td>\n",
       "      <td>2015-07-20</td>\n",
       "      <td>6544</td>\n",
       "      <td>1025</td>\n",
       "      <td>1</td>\n",
       "      <td>0</td>\n",
       "      <td>0</td>\n",
       "      <td>1</td>\n",
       "      <td>2015</td>\n",
       "      <td>7</td>\n",
       "      <td>20</td>\n",
       "      <td>a</td>\n",
       "      <td>c</td>\n",
       "      <td>2013-09-01</td>\n",
       "      <td>2190.0</td>\n",
       "      <td>687</td>\n",
       "      <td>6880.789186</td>\n",
       "    </tr>\n",
       "    <tr>\n",
       "      <th>563009</th>\n",
       "      <td>618</td>\n",
       "      <td>1</td>\n",
       "      <td>2015-07-20</td>\n",
       "      <td>6691</td>\n",
       "      <td>512</td>\n",
       "      <td>1</td>\n",
       "      <td>0</td>\n",
       "      <td>0</td>\n",
       "      <td>0</td>\n",
       "      <td>2015</td>\n",
       "      <td>7</td>\n",
       "      <td>20</td>\n",
       "      <td>d</td>\n",
       "      <td>c</td>\n",
       "      <td>2023-12-01</td>\n",
       "      <td>9910.0</td>\n",
       "      <td>0</td>\n",
       "      <td>5837.422060</td>\n",
       "    </tr>\n",
       "    <tr>\n",
       "      <th>361635</th>\n",
       "      <td>397</td>\n",
       "      <td>1</td>\n",
       "      <td>2015-07-20</td>\n",
       "      <td>5148</td>\n",
       "      <td>737</td>\n",
       "      <td>1</td>\n",
       "      <td>0</td>\n",
       "      <td>0</td>\n",
       "      <td>1</td>\n",
       "      <td>2015</td>\n",
       "      <td>7</td>\n",
       "      <td>20</td>\n",
       "      <td>a</td>\n",
       "      <td>c</td>\n",
       "      <td>2023-12-01</td>\n",
       "      <td>130.0</td>\n",
       "      <td>0</td>\n",
       "      <td>4150.200000</td>\n",
       "    </tr>\n",
       "    <tr>\n",
       "      <th>...</th>\n",
       "      <td>...</td>\n",
       "      <td>...</td>\n",
       "      <td>...</td>\n",
       "      <td>...</td>\n",
       "      <td>...</td>\n",
       "      <td>...</td>\n",
       "      <td>...</td>\n",
       "      <td>...</td>\n",
       "      <td>...</td>\n",
       "      <td>...</td>\n",
       "      <td>...</td>\n",
       "      <td>...</td>\n",
       "      <td>...</td>\n",
       "      <td>...</td>\n",
       "      <td>...</td>\n",
       "      <td>...</td>\n",
       "      <td>...</td>\n",
       "      <td>...</td>\n",
       "    </tr>\n",
       "    <tr>\n",
       "      <th>718008</th>\n",
       "      <td>789</td>\n",
       "      <td>5</td>\n",
       "      <td>2015-07-31</td>\n",
       "      <td>4205</td>\n",
       "      <td>533</td>\n",
       "      <td>1</td>\n",
       "      <td>1</td>\n",
       "      <td>0</td>\n",
       "      <td>1</td>\n",
       "      <td>2015</td>\n",
       "      <td>7</td>\n",
       "      <td>31</td>\n",
       "      <td>a</td>\n",
       "      <td>c</td>\n",
       "      <td>2003-07-01</td>\n",
       "      <td>9770.0</td>\n",
       "      <td>4413</td>\n",
       "      <td>6861.400000</td>\n",
       "    </tr>\n",
       "    <tr>\n",
       "      <th>248518</th>\n",
       "      <td>274</td>\n",
       "      <td>5</td>\n",
       "      <td>2015-07-31</td>\n",
       "      <td>6975</td>\n",
       "      <td>1374</td>\n",
       "      <td>1</td>\n",
       "      <td>1</td>\n",
       "      <td>0</td>\n",
       "      <td>1</td>\n",
       "      <td>2015</td>\n",
       "      <td>7</td>\n",
       "      <td>31</td>\n",
       "      <td>b</td>\n",
       "      <td>b</td>\n",
       "      <td>2023-12-01</td>\n",
       "      <td>3640.0</td>\n",
       "      <td>0</td>\n",
       "      <td>3701.900000</td>\n",
       "    </tr>\n",
       "    <tr>\n",
       "      <th>247576</th>\n",
       "      <td>273</td>\n",
       "      <td>5</td>\n",
       "      <td>2015-07-31</td>\n",
       "      <td>9189</td>\n",
       "      <td>792</td>\n",
       "      <td>1</td>\n",
       "      <td>1</td>\n",
       "      <td>0</td>\n",
       "      <td>1</td>\n",
       "      <td>2015</td>\n",
       "      <td>7</td>\n",
       "      <td>31</td>\n",
       "      <td>a</td>\n",
       "      <td>c</td>\n",
       "      <td>2023-12-01</td>\n",
       "      <td>8480.0</td>\n",
       "      <td>0</td>\n",
       "      <td>9050.108159</td>\n",
       "    </tr>\n",
       "    <tr>\n",
       "      <th>630704</th>\n",
       "      <td>693</td>\n",
       "      <td>5</td>\n",
       "      <td>2015-07-31</td>\n",
       "      <td>8040</td>\n",
       "      <td>571</td>\n",
       "      <td>1</td>\n",
       "      <td>1</td>\n",
       "      <td>0</td>\n",
       "      <td>1</td>\n",
       "      <td>2015</td>\n",
       "      <td>7</td>\n",
       "      <td>31</td>\n",
       "      <td>d</td>\n",
       "      <td>a</td>\n",
       "      <td>2023-12-01</td>\n",
       "      <td>450.0</td>\n",
       "      <td>0</td>\n",
       "      <td>8761.900000</td>\n",
       "    </tr>\n",
       "    <tr>\n",
       "      <th>0</th>\n",
       "      <td>1</td>\n",
       "      <td>5</td>\n",
       "      <td>2015-07-31</td>\n",
       "      <td>5263</td>\n",
       "      <td>555</td>\n",
       "      <td>1</td>\n",
       "      <td>1</td>\n",
       "      <td>0</td>\n",
       "      <td>1</td>\n",
       "      <td>2015</td>\n",
       "      <td>7</td>\n",
       "      <td>31</td>\n",
       "      <td>c</td>\n",
       "      <td>a</td>\n",
       "      <td>2008-09-01</td>\n",
       "      <td>1270.0</td>\n",
       "      <td>2524</td>\n",
       "      <td>6229.600000</td>\n",
       "    </tr>\n",
       "  </tbody>\n",
       "</table>\n",
       "<p>12275 rows × 18 columns</p>\n",
       "</div>"
      ],
      "text/plain": [
       "        Store  DayOfWeek        Date  Sales  Customers  Open  Promo  \\\n",
       "212343    235          1  2015-07-20   5509        499     1      0   \n",
       "873375    959          1  2015-07-20   7372        824     1      0   \n",
       "501551    551          1  2015-07-20   6544       1025     1      0   \n",
       "563009    618          1  2015-07-20   6691        512     1      0   \n",
       "361635    397          1  2015-07-20   5148        737     1      0   \n",
       "...       ...        ...         ...    ...        ...   ...    ...   \n",
       "718008    789          5  2015-07-31   4205        533     1      1   \n",
       "248518    274          5  2015-07-31   6975       1374     1      1   \n",
       "247576    273          5  2015-07-31   9189        792     1      1   \n",
       "630704    693          5  2015-07-31   8040        571     1      1   \n",
       "0           1          5  2015-07-31   5263        555     1      1   \n",
       "\n",
       "       StateHoliday  SchoolHoliday  Year  Month  Day StoreType Assortment  \\\n",
       "212343            0              0  2015      7   20         a          a   \n",
       "873375            0              1  2015      7   20         a          c   \n",
       "501551            0              1  2015      7   20         a          c   \n",
       "563009            0              0  2015      7   20         d          c   \n",
       "361635            0              1  2015      7   20         a          c   \n",
       "...             ...            ...   ...    ...  ...       ...        ...   \n",
       "718008            0              1  2015      7   31         a          c   \n",
       "248518            0              1  2015      7   31         b          b   \n",
       "247576            0              1  2015      7   31         a          c   \n",
       "630704            0              1  2015      7   31         d          a   \n",
       "0                 0              1  2015      7   31         c          a   \n",
       "\n",
       "       date_concu  CompetitionDistance  has_concu_since         pred  \n",
       "212343 2012-03-01               5710.0             1236  4611.749647  \n",
       "873375 2005-12-01               1060.0             3518  6088.888060  \n",
       "501551 2013-09-01               2190.0              687  6880.789186  \n",
       "563009 2023-12-01               9910.0                0  5837.422060  \n",
       "361635 2023-12-01                130.0                0  4150.200000  \n",
       "...           ...                  ...              ...          ...  \n",
       "718008 2003-07-01               9770.0             4413  6861.400000  \n",
       "248518 2023-12-01               3640.0                0  3701.900000  \n",
       "247576 2023-12-01               8480.0                0  9050.108159  \n",
       "630704 2023-12-01                450.0                0  8761.900000  \n",
       "0      2008-09-01               1270.0             2524  6229.600000  \n",
       "\n",
       "[12275 rows x 18 columns]"
      ]
     },
     "execution_count": 134,
     "metadata": {},
     "output_type": "execute_result"
    }
   ],
   "source": [
    "df_tot[df_tot.Date > '2015-07-19']"
   ]
  },
  {
   "cell_type": "code",
   "execution_count": 135,
   "id": "1eaba552",
   "metadata": {},
   "outputs": [
    {
     "data": {
      "text/plain": [
       "0.014538016765797584"
      ]
     },
     "execution_count": 135,
     "metadata": {},
     "output_type": "execute_result"
    }
   ],
   "source": [
    "12275 / len(df_tot)"
   ]
  },
  {
   "cell_type": "code",
   "execution_count": null,
   "id": "3ca69bf8",
   "metadata": {},
   "outputs": [],
   "source": []
  },
  {
   "cell_type": "code",
   "execution_count": null,
   "id": "4d2ce0b8",
   "metadata": {},
   "outputs": [],
   "source": []
  }
 ],
 "metadata": {
  "kernelspec": {
   "display_name": "Python 3 (ipykernel)",
   "language": "python",
   "name": "python3"
  },
  "language_info": {
   "codemirror_mode": {
    "name": "ipython",
    "version": 3
   },
   "file_extension": ".py",
   "mimetype": "text/x-python",
   "name": "python",
   "nbconvert_exporter": "python",
   "pygments_lexer": "ipython3",
   "version": "3.8.2"
  }
 },
 "nbformat": 4,
 "nbformat_minor": 5
}
